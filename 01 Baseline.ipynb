{
 "cells": [
  {
   "cell_type": "markdown",
   "metadata": {},
   "source": [
    "# 01 Baseline\n",
    "The purpose of this work is to get acquainted with the data and determine the minimum quality level."
   ]
  },
  {
   "cell_type": "code",
   "execution_count": 1,
   "metadata": {},
   "outputs": [],
   "source": [
    "import pandas as pd\n",
    "import numpy as np\n",
    "import matplotlib.pyplot as plt\n",
    "%matplotlib inline\n",
    "plt.rcParams['figure.figsize'] = (16, 10)\n",
    "from IPython.display import Image\n",
    "\n",
    "import optuna\n",
    "from optuna.samplers import TPESampler\n",
    "from sklearn.model_selection import RepeatedStratifiedKFold\n",
    "\n",
    "import spacy\n",
    "import re\n",
    "from sklearn.tree import DecisionTreeClassifier\n",
    "from sklearn.feature_extraction.text import TfidfVectorizer\n",
    "from sklearn.ensemble import RandomForestClassifier, BaggingClassifier\n",
    "from sklearn.pipeline import Pipeline\n",
    "from sklearn.model_selection import train_test_split\n",
    "from sklearn.metrics import roc_curve, classification_report, confusion_matrix, roc_auc_score, f1_score"
   ]
  },
  {
   "cell_type": "code",
   "execution_count": 2,
   "metadata": {},
   "outputs": [
    {
     "data": {
      "text/html": [
       "<div>\n",
       "<style scoped>\n",
       "    .dataframe tbody tr th:only-of-type {\n",
       "        vertical-align: middle;\n",
       "    }\n",
       "\n",
       "    .dataframe tbody tr th {\n",
       "        vertical-align: top;\n",
       "    }\n",
       "\n",
       "    .dataframe thead th {\n",
       "        text-align: right;\n",
       "    }\n",
       "</style>\n",
       "<table border=\"1\" class=\"dataframe\">\n",
       "  <thead>\n",
       "    <tr style=\"text-align: right;\">\n",
       "      <th></th>\n",
       "      <th>Text</th>\n",
       "      <th>Label</th>\n",
       "      <th>ID</th>\n",
       "      <th>Offsets</th>\n",
       "      <th>Unnamed: 4</th>\n",
       "      <th>Unnamed: 5</th>\n",
       "      <th>Unnamed: 6</th>\n",
       "    </tr>\n",
       "  </thead>\n",
       "  <tbody>\n",
       "    <tr>\n",
       "      <th>0</th>\n",
       "      <td>Funding Circle was created with a big idea:</td>\n",
       "      <td>None</td>\n",
       "      <td>article_00000.pre.xmi:001</td>\n",
       "      <td>[]</td>\n",
       "      <td>NaN</td>\n",
       "      <td>NaN</td>\n",
       "      <td>NaN</td>\n",
       "    </tr>\n",
       "    <tr>\n",
       "      <th>1</th>\n",
       "      <td>To revolutionize the outdated banking system a...</td>\n",
       "      <td>About</td>\n",
       "      <td>article_00000.pre.xmi:002</td>\n",
       "      <td>[{u'text': u'revolutionize the outdated bankin...</td>\n",
       "      <td>NaN</td>\n",
       "      <td>NaN</td>\n",
       "      <td>NaN</td>\n",
       "    </tr>\n",
       "    <tr>\n",
       "      <th>2</th>\n",
       "      <td>Thousands of loans later, we've helped busines...</td>\n",
       "      <td>About</td>\n",
       "      <td>article_00000.pre.xmi:003</td>\n",
       "      <td>[{u'text': u'we', u'endOffset': 28, u'beginOff...</td>\n",
       "      <td>NaN</td>\n",
       "      <td>NaN</td>\n",
       "      <td>NaN</td>\n",
       "    </tr>\n",
       "    <tr>\n",
       "      <th>3</th>\n",
       "      <td>We've taken this progress global.</td>\n",
       "      <td>About</td>\n",
       "      <td>article_00000.pre.xmi:004</td>\n",
       "      <td>[{u'text': u'We', u'endOffset': 2, u'beginOffs...</td>\n",
       "      <td>NaN</td>\n",
       "      <td>NaN</td>\n",
       "      <td>NaN</td>\n",
       "    </tr>\n",
       "    <tr>\n",
       "      <th>4</th>\n",
       "      <td>Funding Circle is the world's leading marketpl...</td>\n",
       "      <td>About</td>\n",
       "      <td>article_00000.pre.xmi:005</td>\n",
       "      <td>[{u'text': u'Funding Circle', u'endOffset': 14...</td>\n",
       "      <td>NaN</td>\n",
       "      <td>NaN</td>\n",
       "      <td>NaN</td>\n",
       "    </tr>\n",
       "    <tr>\n",
       "      <th>...</th>\n",
       "      <td>...</td>\n",
       "      <td>...</td>\n",
       "      <td>...</td>\n",
       "      <td>...</td>\n",
       "      <td>...</td>\n",
       "      <td>...</td>\n",
       "      <td>...</td>\n",
       "    </tr>\n",
       "    <tr>\n",
       "      <th>16716</th>\n",
       "      <td>Dr. Holtz has held research management positio...</td>\n",
       "      <td>None</td>\n",
       "      <td>article_00799.pre.xmi:013</td>\n",
       "      <td>[]</td>\n",
       "      <td>NaN</td>\n",
       "      <td>NaN</td>\n",
       "      <td>NaN</td>\n",
       "    </tr>\n",
       "    <tr>\n",
       "      <th>16717</th>\n",
       "      <td>He received his Ph.D. at Pennsylvania State Un...</td>\n",
       "      <td>None</td>\n",
       "      <td>article_00799.pre.xmi:014</td>\n",
       "      <td>[]</td>\n",
       "      <td>NaN</td>\n",
       "      <td>NaN</td>\n",
       "      <td>NaN</td>\n",
       "    </tr>\n",
       "    <tr>\n",
       "      <th>16718</th>\n",
       "      <td>Dr. Holtz has been awarded 22 US patents and h...</td>\n",
       "      <td>None</td>\n",
       "      <td>article_00799.pre.xmi:015</td>\n",
       "      <td>[]</td>\n",
       "      <td>NaN</td>\n",
       "      <td>NaN</td>\n",
       "      <td>NaN</td>\n",
       "    </tr>\n",
       "    <tr>\n",
       "      <th>16719</th>\n",
       "      <td>Dr. Holtz was awarded the Pennsylvania State U...</td>\n",
       "      <td>None</td>\n",
       "      <td>article_00799.pre.xmi:016</td>\n",
       "      <td>[]</td>\n",
       "      <td>NaN</td>\n",
       "      <td>NaN</td>\n",
       "      <td>NaN</td>\n",
       "    </tr>\n",
       "    <tr>\n",
       "      <th>16720</th>\n",
       "      <td>Copyright © 2017 iBio CMO All rights reserved.</td>\n",
       "      <td>None</td>\n",
       "      <td>article_00799.pre.xmi:017</td>\n",
       "      <td>[]</td>\n",
       "      <td>NaN</td>\n",
       "      <td>NaN</td>\n",
       "      <td>NaN</td>\n",
       "    </tr>\n",
       "  </tbody>\n",
       "</table>\n",
       "<p>16721 rows × 7 columns</p>\n",
       "</div>"
      ],
      "text/plain": [
       "                                                    Text  Label  \\\n",
       "0            Funding Circle was created with a big idea:   None   \n",
       "1      To revolutionize the outdated banking system a...  About   \n",
       "2      Thousands of loans later, we've helped busines...  About   \n",
       "3                      We've taken this progress global.  About   \n",
       "4      Funding Circle is the world's leading marketpl...  About   \n",
       "...                                                  ...    ...   \n",
       "16716  Dr. Holtz has held research management positio...   None   \n",
       "16717  He received his Ph.D. at Pennsylvania State Un...   None   \n",
       "16718  Dr. Holtz has been awarded 22 US patents and h...   None   \n",
       "16719  Dr. Holtz was awarded the Pennsylvania State U...   None   \n",
       "16720     Copyright © 2017 iBio CMO All rights reserved.   None   \n",
       "\n",
       "                              ID  \\\n",
       "0      article_00000.pre.xmi:001   \n",
       "1      article_00000.pre.xmi:002   \n",
       "2      article_00000.pre.xmi:003   \n",
       "3      article_00000.pre.xmi:004   \n",
       "4      article_00000.pre.xmi:005   \n",
       "...                          ...   \n",
       "16716  article_00799.pre.xmi:013   \n",
       "16717  article_00799.pre.xmi:014   \n",
       "16718  article_00799.pre.xmi:015   \n",
       "16719  article_00799.pre.xmi:016   \n",
       "16720  article_00799.pre.xmi:017   \n",
       "\n",
       "                                                 Offsets Unnamed: 4  \\\n",
       "0                                                     []        NaN   \n",
       "1      [{u'text': u'revolutionize the outdated bankin...        NaN   \n",
       "2      [{u'text': u'we', u'endOffset': 28, u'beginOff...        NaN   \n",
       "3      [{u'text': u'We', u'endOffset': 2, u'beginOffs...        NaN   \n",
       "4      [{u'text': u'Funding Circle', u'endOffset': 14...        NaN   \n",
       "...                                                  ...        ...   \n",
       "16716                                                 []        NaN   \n",
       "16717                                                 []        NaN   \n",
       "16718                                                 []        NaN   \n",
       "16719                                                 []        NaN   \n",
       "16720                                                 []        NaN   \n",
       "\n",
       "      Unnamed: 5 Unnamed: 6  \n",
       "0            NaN        NaN  \n",
       "1            NaN        NaN  \n",
       "2            NaN        NaN  \n",
       "3            NaN        NaN  \n",
       "4            NaN        NaN  \n",
       "...          ...        ...  \n",
       "16716        NaN        NaN  \n",
       "16717        NaN        NaN  \n",
       "16718        NaN        NaN  \n",
       "16719        NaN        NaN  \n",
       "16720        NaN        NaN  \n",
       "\n",
       "[16721 rows x 7 columns]"
      ]
     },
     "execution_count": 2,
     "metadata": {},
     "output_type": "execute_result"
    }
   ],
   "source": [
    "df = pd.read_csv('dataset/aboutlabeled.csv')\n",
    "df"
   ]
  },
  {
   "cell_type": "markdown",
   "metadata": {},
   "source": [
    "### Check \"unnamed: 4-6\""
   ]
  },
  {
   "cell_type": "code",
   "execution_count": 3,
   "metadata": {
    "pycharm": {
     "name": "#%%\n"
    }
   },
   "outputs": [
    {
     "data": {
      "text/html": [
       "<div>\n",
       "<style scoped>\n",
       "    .dataframe tbody tr th:only-of-type {\n",
       "        vertical-align: middle;\n",
       "    }\n",
       "\n",
       "    .dataframe tbody tr th {\n",
       "        vertical-align: top;\n",
       "    }\n",
       "\n",
       "    .dataframe thead th {\n",
       "        text-align: right;\n",
       "    }\n",
       "</style>\n",
       "<table border=\"1\" class=\"dataframe\">\n",
       "  <thead>\n",
       "    <tr style=\"text-align: right;\">\n",
       "      <th></th>\n",
       "      <th>Text</th>\n",
       "      <th>Label</th>\n",
       "      <th>ID</th>\n",
       "      <th>Offsets</th>\n",
       "      <th>Unnamed: 4</th>\n",
       "      <th>Unnamed: 5</th>\n",
       "      <th>Unnamed: 6</th>\n",
       "    </tr>\n",
       "  </thead>\n",
       "  <tbody>\n",
       "    <tr>\n",
       "      <th>678</th>\n",
       "      <td>Venus is different</td>\n",
       "      <td>our network was built with the needs of the b...</td>\n",
       "      <td>None</td>\n",
       "      <td>article_00038.pre.xmi:007</td>\n",
       "      <td>[]</td>\n",
       "      <td>NaN</td>\n",
       "      <td>NaN</td>\n",
       "    </tr>\n",
       "    <tr>\n",
       "      <th>1122</th>\n",
       "      <td>We do not look to spread product functionality...</td>\n",
       "      <td>nor do we try to straight-jacket your process...</td>\n",
       "      <td>None</td>\n",
       "      <td>article_00058.pre.xmi:034</td>\n",
       "      <td>[]</td>\n",
       "      <td>NaN</td>\n",
       "      <td>NaN</td>\n",
       "    </tr>\n",
       "    <tr>\n",
       "      <th>1128</th>\n",
       "      <td>We really want to make sure that we have under...</td>\n",
       "      <td>that together we understand all the issues an...</td>\n",
       "      <td>None</td>\n",
       "      <td>article_00058.pre.xmi:040</td>\n",
       "      <td>[]</td>\n",
       "      <td>NaN</td>\n",
       "      <td>NaN</td>\n",
       "    </tr>\n",
       "    <tr>\n",
       "      <th>2255</th>\n",
       "      <td>The result is tribal knowledge vs. institution...</td>\n",
       "      <td>lack of visibility into performance creates s...</td>\n",
       "      <td>manual change management practices leading to...</td>\n",
       "      <td>None</td>\n",
       "      <td>article_00110.pre.xmi:008</td>\n",
       "      <td>[]</td>\n",
       "      <td>NaN</td>\n",
       "    </tr>\n",
       "    <tr>\n",
       "      <th>2648</th>\n",
       "      <td>Managing Director of ionStar</td>\n",
       "      <td>a company that provides regulatory compliance...</td>\n",
       "      <td>About</td>\n",
       "      <td>article_00128.pre.xmi:025</td>\n",
       "      <td>[{u'text': u'ionStar', u'endOffset': 28, u'beg...</td>\n",
       "      <td>NaN</td>\n",
       "      <td>NaN</td>\n",
       "    </tr>\n",
       "    <tr>\n",
       "      <th>...</th>\n",
       "      <td>...</td>\n",
       "      <td>...</td>\n",
       "      <td>...</td>\n",
       "      <td>...</td>\n",
       "      <td>...</td>\n",
       "      <td>...</td>\n",
       "      <td>...</td>\n",
       "    </tr>\n",
       "    <tr>\n",
       "      <th>15644</th>\n",
       "      <td>Roland was co-founder of Zimbra (acquired by Y...</td>\n",
       "      <td>co-founder &amp; CTO of mobile-messaging company ...</td>\n",
       "      <td>founding engineer at Onebox.com (acquired by ...</td>\n",
       "      <td>About</td>\n",
       "      <td>article_00753.pre.xmi:016</td>\n",
       "      <td>[{u'text': 'mobile-messaging', u'endOffset': 9...</td>\n",
       "      <td>NaN</td>\n",
       "    </tr>\n",
       "    <tr>\n",
       "      <th>15660</th>\n",
       "      <td>Ross was co-founder of Zimbra (acquired by Yah...</td>\n",
       "      <td>cofounder of mobile-messaging company Mumbo (...</td>\n",
       "      <td>founding engineer at Onebox.com (acquired for...</td>\n",
       "      <td>and is a principal at investment firm Volt Ve...</td>\n",
       "      <td>About</td>\n",
       "      <td>article_00753.pre.xmi:032</td>\n",
       "      <td>[{u'text': 'mobile-messaging', u'endOffset': 9...</td>\n",
       "    </tr>\n",
       "    <tr>\n",
       "      <th>16148</th>\n",
       "      <td>We stand for high-performance</td>\n",
       "      <td>taking a different approach to making the ine...</td>\n",
       "      <td>None</td>\n",
       "      <td>article_00775.pre.xmi:009</td>\n",
       "      <td>[]</td>\n",
       "      <td>NaN</td>\n",
       "      <td>NaN</td>\n",
       "    </tr>\n",
       "    <tr>\n",
       "      <th>16370</th>\n",
       "      <td>Our customer roster includes internet commerce...</td>\n",
       "      <td>higher education institutions ranging from th...</td>\n",
       "      <td>international industrial behemoths and retail...</td>\n",
       "      <td>and house hold names in the highly regulated ...</td>\n",
       "      <td>About</td>\n",
       "      <td>article_00783.pre.xmi:012</td>\n",
       "      <td>[{u'text': u'Our', u'endOffset': 3, u'beginOff...</td>\n",
       "    </tr>\n",
       "    <tr>\n",
       "      <th>16437</th>\n",
       "      <td>Our immuno-oncology product candidates are bei...</td>\n",
       "      <td>and an alternative approach that leverages th...</td>\n",
       "      <td>None</td>\n",
       "      <td>article_00790.pre.xmi:007</td>\n",
       "      <td>[]</td>\n",
       "      <td>NaN</td>\n",
       "      <td>NaN</td>\n",
       "    </tr>\n",
       "  </tbody>\n",
       "</table>\n",
       "<p>69 rows × 7 columns</p>\n",
       "</div>"
      ],
      "text/plain": [
       "                                                    Text  \\\n",
       "678                                   Venus is different   \n",
       "1122   We do not look to spread product functionality...   \n",
       "1128   We really want to make sure that we have under...   \n",
       "2255   The result is tribal knowledge vs. institution...   \n",
       "2648                        Managing Director of ionStar   \n",
       "...                                                  ...   \n",
       "15644  Roland was co-founder of Zimbra (acquired by Y...   \n",
       "15660  Ross was co-founder of Zimbra (acquired by Yah...   \n",
       "16148                      We stand for high-performance   \n",
       "16370  Our customer roster includes internet commerce...   \n",
       "16437  Our immuno-oncology product candidates are bei...   \n",
       "\n",
       "                                                   Label  \\\n",
       "678     our network was built with the needs of the b...   \n",
       "1122    nor do we try to straight-jacket your process...   \n",
       "1128    that together we understand all the issues an...   \n",
       "2255    lack of visibility into performance creates s...   \n",
       "2648    a company that provides regulatory compliance...   \n",
       "...                                                  ...   \n",
       "15644   co-founder & CTO of mobile-messaging company ...   \n",
       "15660   cofounder of mobile-messaging company Mumbo (...   \n",
       "16148   taking a different approach to making the ine...   \n",
       "16370   higher education institutions ranging from th...   \n",
       "16437   and an alternative approach that leverages th...   \n",
       "\n",
       "                                                      ID  \\\n",
       "678                                                 None   \n",
       "1122                                                None   \n",
       "1128                                                None   \n",
       "2255    manual change management practices leading to...   \n",
       "2648                                               About   \n",
       "...                                                  ...   \n",
       "15644   founding engineer at Onebox.com (acquired by ...   \n",
       "15660   founding engineer at Onebox.com (acquired for...   \n",
       "16148                                               None   \n",
       "16370   international industrial behemoths and retail...   \n",
       "16437                                               None   \n",
       "\n",
       "                                                 Offsets  \\\n",
       "678                            article_00038.pre.xmi:007   \n",
       "1122                           article_00058.pre.xmi:034   \n",
       "1128                           article_00058.pre.xmi:040   \n",
       "2255                                                None   \n",
       "2648                           article_00128.pre.xmi:025   \n",
       "...                                                  ...   \n",
       "15644                                              About   \n",
       "15660   and is a principal at investment firm Volt Ve...   \n",
       "16148                          article_00775.pre.xmi:009   \n",
       "16370   and house hold names in the highly regulated ...   \n",
       "16437                          article_00790.pre.xmi:007   \n",
       "\n",
       "                                              Unnamed: 4  \\\n",
       "678                                                   []   \n",
       "1122                                                  []   \n",
       "1128                                                  []   \n",
       "2255                           article_00110.pre.xmi:008   \n",
       "2648   [{u'text': u'ionStar', u'endOffset': 28, u'beg...   \n",
       "...                                                  ...   \n",
       "15644                          article_00753.pre.xmi:016   \n",
       "15660                                              About   \n",
       "16148                                                 []   \n",
       "16370                                              About   \n",
       "16437                                                 []   \n",
       "\n",
       "                                              Unnamed: 5  \\\n",
       "678                                                  NaN   \n",
       "1122                                                 NaN   \n",
       "1128                                                 NaN   \n",
       "2255                                                  []   \n",
       "2648                                                 NaN   \n",
       "...                                                  ...   \n",
       "15644  [{u'text': 'mobile-messaging', u'endOffset': 9...   \n",
       "15660                          article_00753.pre.xmi:032   \n",
       "16148                                                NaN   \n",
       "16370                          article_00783.pre.xmi:012   \n",
       "16437                                                NaN   \n",
       "\n",
       "                                              Unnamed: 6  \n",
       "678                                                  NaN  \n",
       "1122                                                 NaN  \n",
       "1128                                                 NaN  \n",
       "2255                                                 NaN  \n",
       "2648                                                 NaN  \n",
       "...                                                  ...  \n",
       "15644                                                NaN  \n",
       "15660  [{u'text': 'mobile-messaging', u'endOffset': 9...  \n",
       "16148                                                NaN  \n",
       "16370  [{u'text': u'Our', u'endOffset': 3, u'beginOff...  \n",
       "16437                                                NaN  \n",
       "\n",
       "[69 rows x 7 columns]"
      ]
     },
     "execution_count": 3,
     "metadata": {},
     "output_type": "execute_result"
    }
   ],
   "source": [
    "rows = df[~df['Unnamed: 4'].isnull()]\n",
    "rows"
   ]
  },
  {
   "cell_type": "raw",
   "metadata": {
    "pycharm": {
     "name": "#%%\n"
    }
   },
   "source": [
    "cat ./aboutlabeled.csv | grep article_00128.pre.xmi:025\n",
    "Managing Director of ionStar, a company that provides regulatory compliance advice for financial services businesses.,About,article_00128.pre.xmi:025,\"[{u'text': u'ionStar', u'endOffset': 28, u'beginOffset': 21, u'label': u'Company'}, {u'text': u'regulatory compliance advice', u'endOffset': 82, u'beginOffset': 54, u'label': u'ProductService'}]\",,"
   ]
  },
  {
   "cell_type": "markdown",
   "metadata": {},
   "source": [
    "### Fixing incorrect escaping"
   ]
  },
  {
   "cell_type": "code",
   "execution_count": 4,
   "metadata": {},
   "outputs": [],
   "source": [
    "regex_str = re.compile(r\"(.+?),(About|None),(article_.+?),(.*)\") \n",
    "\n",
    "df_row_list = []\n",
    "f_in = open ('dataset/aboutlabeled.csv', 'r')\n",
    "for i, line in enumerate(f_in):\n",
    "    if i > 0:\n",
    "        r_match = re.match(regex_str, line)\n",
    "        df_row = [r_match[1], r_match[2], r_match[3], r_match[4]]\n",
    "        df_row_list.append(df_row)\n",
    "f_in.close()      \n",
    "\n",
    "df = pd.DataFrame(df_row_list)\n",
    "df.columns = ['Text', 'Label', 'ID', 'Offsets']"
   ]
  },
  {
   "cell_type": "code",
   "execution_count": 5,
   "metadata": {},
   "outputs": [
    {
     "data": {
      "text/html": [
       "<div>\n",
       "<style scoped>\n",
       "    .dataframe tbody tr th:only-of-type {\n",
       "        vertical-align: middle;\n",
       "    }\n",
       "\n",
       "    .dataframe tbody tr th {\n",
       "        vertical-align: top;\n",
       "    }\n",
       "\n",
       "    .dataframe thead th {\n",
       "        text-align: right;\n",
       "    }\n",
       "</style>\n",
       "<table border=\"1\" class=\"dataframe\">\n",
       "  <thead>\n",
       "    <tr style=\"text-align: right;\">\n",
       "      <th></th>\n",
       "      <th>Text</th>\n",
       "      <th>Label</th>\n",
       "      <th>ID</th>\n",
       "      <th>Offsets</th>\n",
       "    </tr>\n",
       "  </thead>\n",
       "  <tbody>\n",
       "    <tr>\n",
       "      <th>0</th>\n",
       "      <td>Funding Circle was created with a big idea:</td>\n",
       "      <td>None</td>\n",
       "      <td>article_00000.pre.xmi:001</td>\n",
       "      <td>[],,,</td>\n",
       "    </tr>\n",
       "    <tr>\n",
       "      <th>1</th>\n",
       "      <td>To revolutionize the outdated banking system a...</td>\n",
       "      <td>About</td>\n",
       "      <td>article_00000.pre.xmi:002</td>\n",
       "      <td>\"[{u'text': u'revolutionize the outdated banki...</td>\n",
       "    </tr>\n",
       "    <tr>\n",
       "      <th>2</th>\n",
       "      <td>\"Thousands of loans later, we've helped busine...</td>\n",
       "      <td>About</td>\n",
       "      <td>article_00000.pre.xmi:003</td>\n",
       "      <td>\"[{u'text': u'we', u'endOffset': 28, u'beginOf...</td>\n",
       "    </tr>\n",
       "    <tr>\n",
       "      <th>3</th>\n",
       "      <td>We've taken this progress global.</td>\n",
       "      <td>About</td>\n",
       "      <td>article_00000.pre.xmi:004</td>\n",
       "      <td>\"[{u'text': u'We', u'endOffset': 2, u'beginOff...</td>\n",
       "    </tr>\n",
       "    <tr>\n",
       "      <th>4</th>\n",
       "      <td>\"Funding Circle is the world's leading marketp...</td>\n",
       "      <td>About</td>\n",
       "      <td>article_00000.pre.xmi:005</td>\n",
       "      <td>\"[{u'text': u'Funding Circle', u'endOffset': 1...</td>\n",
       "    </tr>\n",
       "    <tr>\n",
       "      <th>...</th>\n",
       "      <td>...</td>\n",
       "      <td>...</td>\n",
       "      <td>...</td>\n",
       "      <td>...</td>\n",
       "    </tr>\n",
       "    <tr>\n",
       "      <th>16716</th>\n",
       "      <td>Dr. Holtz has held research management positio...</td>\n",
       "      <td>None</td>\n",
       "      <td>article_00799.pre.xmi:013</td>\n",
       "      <td>[],,,</td>\n",
       "    </tr>\n",
       "    <tr>\n",
       "      <th>16717</th>\n",
       "      <td>He received his Ph.D. at Pennsylvania State Un...</td>\n",
       "      <td>None</td>\n",
       "      <td>article_00799.pre.xmi:014</td>\n",
       "      <td>[],,,</td>\n",
       "    </tr>\n",
       "    <tr>\n",
       "      <th>16718</th>\n",
       "      <td>Dr. Holtz has been awarded 22 US patents and h...</td>\n",
       "      <td>None</td>\n",
       "      <td>article_00799.pre.xmi:015</td>\n",
       "      <td>[],,,</td>\n",
       "    </tr>\n",
       "    <tr>\n",
       "      <th>16719</th>\n",
       "      <td>\"Dr. Holtz was awarded the Pennsylvania State ...</td>\n",
       "      <td>None</td>\n",
       "      <td>article_00799.pre.xmi:016</td>\n",
       "      <td>[],,,</td>\n",
       "    </tr>\n",
       "    <tr>\n",
       "      <th>16720</th>\n",
       "      <td>Copyright © 2017 iBio CMO All rights reserved.</td>\n",
       "      <td>None</td>\n",
       "      <td>article_00799.pre.xmi:017</td>\n",
       "      <td>[],,,</td>\n",
       "    </tr>\n",
       "  </tbody>\n",
       "</table>\n",
       "<p>16721 rows × 4 columns</p>\n",
       "</div>"
      ],
      "text/plain": [
       "                                                    Text  Label  \\\n",
       "0            Funding Circle was created with a big idea:   None   \n",
       "1      To revolutionize the outdated banking system a...  About   \n",
       "2      \"Thousands of loans later, we've helped busine...  About   \n",
       "3                      We've taken this progress global.  About   \n",
       "4      \"Funding Circle is the world's leading marketp...  About   \n",
       "...                                                  ...    ...   \n",
       "16716  Dr. Holtz has held research management positio...   None   \n",
       "16717  He received his Ph.D. at Pennsylvania State Un...   None   \n",
       "16718  Dr. Holtz has been awarded 22 US patents and h...   None   \n",
       "16719  \"Dr. Holtz was awarded the Pennsylvania State ...   None   \n",
       "16720     Copyright © 2017 iBio CMO All rights reserved.   None   \n",
       "\n",
       "                              ID  \\\n",
       "0      article_00000.pre.xmi:001   \n",
       "1      article_00000.pre.xmi:002   \n",
       "2      article_00000.pre.xmi:003   \n",
       "3      article_00000.pre.xmi:004   \n",
       "4      article_00000.pre.xmi:005   \n",
       "...                          ...   \n",
       "16716  article_00799.pre.xmi:013   \n",
       "16717  article_00799.pre.xmi:014   \n",
       "16718  article_00799.pre.xmi:015   \n",
       "16719  article_00799.pre.xmi:016   \n",
       "16720  article_00799.pre.xmi:017   \n",
       "\n",
       "                                                 Offsets  \n",
       "0                                                  [],,,  \n",
       "1      \"[{u'text': u'revolutionize the outdated banki...  \n",
       "2      \"[{u'text': u'we', u'endOffset': 28, u'beginOf...  \n",
       "3      \"[{u'text': u'We', u'endOffset': 2, u'beginOff...  \n",
       "4      \"[{u'text': u'Funding Circle', u'endOffset': 1...  \n",
       "...                                                  ...  \n",
       "16716                                              [],,,  \n",
       "16717                                              [],,,  \n",
       "16718                                              [],,,  \n",
       "16719                                              [],,,  \n",
       "16720                                              [],,,  \n",
       "\n",
       "[16721 rows x 4 columns]"
      ]
     },
     "execution_count": 5,
     "metadata": {},
     "output_type": "execute_result"
    }
   ],
   "source": [
    "df"
   ]
  },
  {
   "cell_type": "markdown",
   "metadata": {},
   "source": [
    "### Encode y"
   ]
  },
  {
   "cell_type": "code",
   "execution_count": 6,
   "metadata": {},
   "outputs": [],
   "source": [
    "df.loc[df['Label'] == 'None', 'Label'] = 0\n",
    "df.loc[df['Label'] == 'About', 'Label'] = 1\n",
    "df['Label'] = df['Label'].astype(int)"
   ]
  },
  {
   "cell_type": "markdown",
   "metadata": {},
   "source": [
    "### Drop uninformative columns. I don't go deep into \"Offsets\", because DL model will do it."
   ]
  },
  {
   "cell_type": "code",
   "execution_count": 7,
   "metadata": {},
   "outputs": [],
   "source": [
    "df.drop(['ID', 'Offsets'], axis=1, inplace=True)\n",
    "df.dropna(inplace=True)"
   ]
  },
  {
   "cell_type": "code",
   "execution_count": 8,
   "metadata": {},
   "outputs": [
    {
     "data": {
      "text/html": [
       "<div>\n",
       "<style scoped>\n",
       "    .dataframe tbody tr th:only-of-type {\n",
       "        vertical-align: middle;\n",
       "    }\n",
       "\n",
       "    .dataframe tbody tr th {\n",
       "        vertical-align: top;\n",
       "    }\n",
       "\n",
       "    .dataframe thead th {\n",
       "        text-align: right;\n",
       "    }\n",
       "</style>\n",
       "<table border=\"1\" class=\"dataframe\">\n",
       "  <thead>\n",
       "    <tr style=\"text-align: right;\">\n",
       "      <th></th>\n",
       "      <th>Text</th>\n",
       "      <th>Label</th>\n",
       "    </tr>\n",
       "  </thead>\n",
       "  <tbody>\n",
       "    <tr>\n",
       "      <th>0</th>\n",
       "      <td>Funding Circle was created with a big idea:</td>\n",
       "      <td>0</td>\n",
       "    </tr>\n",
       "    <tr>\n",
       "      <th>1</th>\n",
       "      <td>To revolutionize the outdated banking system a...</td>\n",
       "      <td>1</td>\n",
       "    </tr>\n",
       "    <tr>\n",
       "      <th>2</th>\n",
       "      <td>\"Thousands of loans later, we've helped busine...</td>\n",
       "      <td>1</td>\n",
       "    </tr>\n",
       "    <tr>\n",
       "      <th>3</th>\n",
       "      <td>We've taken this progress global.</td>\n",
       "      <td>1</td>\n",
       "    </tr>\n",
       "    <tr>\n",
       "      <th>4</th>\n",
       "      <td>\"Funding Circle is the world's leading marketp...</td>\n",
       "      <td>1</td>\n",
       "    </tr>\n",
       "    <tr>\n",
       "      <th>...</th>\n",
       "      <td>...</td>\n",
       "      <td>...</td>\n",
       "    </tr>\n",
       "    <tr>\n",
       "      <th>16716</th>\n",
       "      <td>Dr. Holtz has held research management positio...</td>\n",
       "      <td>0</td>\n",
       "    </tr>\n",
       "    <tr>\n",
       "      <th>16717</th>\n",
       "      <td>He received his Ph.D. at Pennsylvania State Un...</td>\n",
       "      <td>0</td>\n",
       "    </tr>\n",
       "    <tr>\n",
       "      <th>16718</th>\n",
       "      <td>Dr. Holtz has been awarded 22 US patents and h...</td>\n",
       "      <td>0</td>\n",
       "    </tr>\n",
       "    <tr>\n",
       "      <th>16719</th>\n",
       "      <td>\"Dr. Holtz was awarded the Pennsylvania State ...</td>\n",
       "      <td>0</td>\n",
       "    </tr>\n",
       "    <tr>\n",
       "      <th>16720</th>\n",
       "      <td>Copyright © 2017 iBio CMO All rights reserved.</td>\n",
       "      <td>0</td>\n",
       "    </tr>\n",
       "  </tbody>\n",
       "</table>\n",
       "<p>16721 rows × 2 columns</p>\n",
       "</div>"
      ],
      "text/plain": [
       "                                                    Text  Label\n",
       "0            Funding Circle was created with a big idea:      0\n",
       "1      To revolutionize the outdated banking system a...      1\n",
       "2      \"Thousands of loans later, we've helped busine...      1\n",
       "3                      We've taken this progress global.      1\n",
       "4      \"Funding Circle is the world's leading marketp...      1\n",
       "...                                                  ...    ...\n",
       "16716  Dr. Holtz has held research management positio...      0\n",
       "16717  He received his Ph.D. at Pennsylvania State Un...      0\n",
       "16718  Dr. Holtz has been awarded 22 US patents and h...      0\n",
       "16719  \"Dr. Holtz was awarded the Pennsylvania State ...      0\n",
       "16720     Copyright © 2017 iBio CMO All rights reserved.      0\n",
       "\n",
       "[16721 rows x 2 columns]"
      ]
     },
     "execution_count": 8,
     "metadata": {},
     "output_type": "execute_result"
    }
   ],
   "source": [
    "df"
   ]
  },
  {
   "cell_type": "code",
   "execution_count": 9,
   "metadata": {},
   "outputs": [
    {
     "name": "stdout",
     "output_type": "stream",
     "text": [
      "<class 'pandas.core.frame.DataFrame'>\n",
      "Int64Index: 16721 entries, 0 to 16720\n",
      "Data columns (total 2 columns):\n",
      " #   Column  Non-Null Count  Dtype \n",
      "---  ------  --------------  ----- \n",
      " 0   Text    16721 non-null  object\n",
      " 1   Label   16721 non-null  int64 \n",
      "dtypes: int64(1), object(1)\n",
      "memory usage: 391.9+ KB\n"
     ]
    }
   ],
   "source": [
    "df.info()"
   ]
  },
  {
   "cell_type": "code",
   "execution_count": 10,
   "metadata": {},
   "outputs": [
    {
     "name": "stderr",
     "output_type": "stream",
     "text": [
      "/usr/local/lib/python3.7/dist-packages/seaborn/_decorators.py:43: FutureWarning: Pass the following variable as a keyword arg: x. From version 0.12, the only valid positional argument will be `data`, and passing other arguments without an explicit keyword will result in an error or misinterpretation.\n",
      "  FutureWarning\n"
     ]
    },
    {
     "data": {
      "text/plain": [
       "<AxesSubplot:xlabel='Label', ylabel='count'>"
      ]
     },
     "execution_count": 10,
     "metadata": {},
     "output_type": "execute_result"
    },
    {
     "data": {
      "image/png": "[encoded data removed]",
      "text/plain": [
       "<Figure size 1152x720 with 1 Axes>"
      ]
     },
     "metadata": {
      "needs_background": "light"
     },
     "output_type": "display_data"
    }
   ],
   "source": [
    "import seaborn as sns\n",
    "\n",
    "sns.countplot(df['Label'])"
   ]
  },
  {
   "cell_type": "markdown",
   "metadata": {},
   "source": [
    "The classes are not balanced, that's okay."
   ]
  },
  {
   "cell_type": "markdown",
   "metadata": {},
   "source": [
    "### Tokening the Data with spaCy"
   ]
  },
  {
   "cell_type": "code",
   "execution_count": 11,
   "metadata": {},
   "outputs": [
    {
     "name": "stderr",
     "output_type": "stream",
     "text": [
      "100%|████████████████████████████████████| 16721/16721 [00:32<00:00, 519.82it/s]\n"
     ]
    }
   ],
   "source": [
    "import string\n",
    "from spacy.lang.en.stop_words import STOP_WORDS\n",
    "from spacy.lang.en import English\n",
    "from tqdm import tqdm\n",
    "\n",
    "# Create our list of punctuation marks\n",
    "punctuations = string.punctuation\n",
    "\n",
    "# Create our list of stopwords\n",
    "nlp = spacy.load('en_core_web_md')\n",
    "stop_words = spacy.lang.en.stop_words.STOP_WORDS\n",
    "\n",
    "# Load English tokenizer\n",
    "parser = English()\n",
    "\n",
    "# Creating our tokenizer function\n",
    "def cleanup_text(docs):\n",
    "    texts = []\n",
    "    for doc in tqdm(docs, ncols=80):\n",
    "        doc = nlp(doc, disable=['parser', 'ner'])\n",
    "#         tokens = [tok.lemma_.lower().strip() for tok in doc if tok.lemma_ != '-PRON-']\n",
    "        tokens = [tok.lemma_.lower().strip() for tok in doc]\n",
    "        #tokens = [tok for tok in tokens if tok not in stop_words and tok not in punctuations]\n",
    "        tokens = [tok for tok in tokens if tok not in punctuations] #stop_words improve cross validation score\n",
    "        tokens = ' '.join(tokens)\n",
    "        texts.append(tokens)\n",
    "    return texts\n",
    "\n",
    "df['Сlean text'] = cleanup_text(df['Text'])"
   ]
  },
  {
   "cell_type": "code",
   "execution_count": 12,
   "metadata": {},
   "outputs": [
    {
     "data": {
      "text/html": [
       "<div>\n",
       "<style scoped>\n",
       "    .dataframe tbody tr th:only-of-type {\n",
       "        vertical-align: middle;\n",
       "    }\n",
       "\n",
       "    .dataframe tbody tr th {\n",
       "        vertical-align: top;\n",
       "    }\n",
       "\n",
       "    .dataframe thead th {\n",
       "        text-align: right;\n",
       "    }\n",
       "</style>\n",
       "<table border=\"1\" class=\"dataframe\">\n",
       "  <thead>\n",
       "    <tr style=\"text-align: right;\">\n",
       "      <th></th>\n",
       "      <th>Text</th>\n",
       "      <th>Label</th>\n",
       "      <th>Сlean text</th>\n",
       "    </tr>\n",
       "  </thead>\n",
       "  <tbody>\n",
       "    <tr>\n",
       "      <th>0</th>\n",
       "      <td>Funding Circle was created with a big idea:</td>\n",
       "      <td>0</td>\n",
       "      <td>funding circle be create with a big idea</td>\n",
       "    </tr>\n",
       "    <tr>\n",
       "      <th>1</th>\n",
       "      <td>To revolutionize the outdated banking system a...</td>\n",
       "      <td>1</td>\n",
       "      <td>to revolutionize the outdated banking system a...</td>\n",
       "    </tr>\n",
       "    <tr>\n",
       "      <th>2</th>\n",
       "      <td>\"Thousands of loans later, we've helped busine...</td>\n",
       "      <td>1</td>\n",
       "      <td>thousand of loan later we 've help business ex...</td>\n",
       "    </tr>\n",
       "    <tr>\n",
       "      <th>3</th>\n",
       "      <td>We've taken this progress global.</td>\n",
       "      <td>1</td>\n",
       "      <td>we 've take this progress global</td>\n",
       "    </tr>\n",
       "    <tr>\n",
       "      <th>4</th>\n",
       "      <td>\"Funding Circle is the world's leading marketp...</td>\n",
       "      <td>1</td>\n",
       "      <td>funding circle be the world 's lead marketplac...</td>\n",
       "    </tr>\n",
       "    <tr>\n",
       "      <th>...</th>\n",
       "      <td>...</td>\n",
       "      <td>...</td>\n",
       "      <td>...</td>\n",
       "    </tr>\n",
       "    <tr>\n",
       "      <th>16716</th>\n",
       "      <td>Dr. Holtz has held research management positio...</td>\n",
       "      <td>0</td>\n",
       "      <td>dr. holtz have hold research management positi...</td>\n",
       "    </tr>\n",
       "    <tr>\n",
       "      <th>16717</th>\n",
       "      <td>He received his Ph.D. at Pennsylvania State Un...</td>\n",
       "      <td>0</td>\n",
       "      <td>he receive his ph.d. at pennsylvania state uni...</td>\n",
       "    </tr>\n",
       "    <tr>\n",
       "      <th>16718</th>\n",
       "      <td>Dr. Holtz has been awarded 22 US patents and h...</td>\n",
       "      <td>0</td>\n",
       "      <td>dr. holtz have be award 22 us patent and have ...</td>\n",
       "    </tr>\n",
       "    <tr>\n",
       "      <th>16719</th>\n",
       "      <td>\"Dr. Holtz was awarded the Pennsylvania State ...</td>\n",
       "      <td>0</td>\n",
       "      <td>dr. holtz be award the pennsylvania state univ...</td>\n",
       "    </tr>\n",
       "    <tr>\n",
       "      <th>16720</th>\n",
       "      <td>Copyright © 2017 iBio CMO All rights reserved.</td>\n",
       "      <td>0</td>\n",
       "      <td>copyright © 2017 ibio cmo all right reserve</td>\n",
       "    </tr>\n",
       "  </tbody>\n",
       "</table>\n",
       "<p>16721 rows × 3 columns</p>\n",
       "</div>"
      ],
      "text/plain": [
       "                                                    Text  Label  \\\n",
       "0            Funding Circle was created with a big idea:      0   \n",
       "1      To revolutionize the outdated banking system a...      1   \n",
       "2      \"Thousands of loans later, we've helped busine...      1   \n",
       "3                      We've taken this progress global.      1   \n",
       "4      \"Funding Circle is the world's leading marketp...      1   \n",
       "...                                                  ...    ...   \n",
       "16716  Dr. Holtz has held research management positio...      0   \n",
       "16717  He received his Ph.D. at Pennsylvania State Un...      0   \n",
       "16718  Dr. Holtz has been awarded 22 US patents and h...      0   \n",
       "16719  \"Dr. Holtz was awarded the Pennsylvania State ...      0   \n",
       "16720     Copyright © 2017 iBio CMO All rights reserved.      0   \n",
       "\n",
       "                                              Сlean text  \n",
       "0               funding circle be create with a big idea  \n",
       "1      to revolutionize the outdated banking system a...  \n",
       "2      thousand of loan later we 've help business ex...  \n",
       "3                       we 've take this progress global  \n",
       "4      funding circle be the world 's lead marketplac...  \n",
       "...                                                  ...  \n",
       "16716  dr. holtz have hold research management positi...  \n",
       "16717  he receive his ph.d. at pennsylvania state uni...  \n",
       "16718  dr. holtz have be award 22 us patent and have ...  \n",
       "16719  dr. holtz be award the pennsylvania state univ...  \n",
       "16720        copyright © 2017 ibio cmo all right reserve  \n",
       "\n",
       "[16721 rows x 3 columns]"
      ]
     },
     "execution_count": 12,
     "metadata": {},
     "output_type": "execute_result"
    }
   ],
   "source": [
    "df"
   ]
  },
  {
   "cell_type": "markdown",
   "metadata": {},
   "source": [
    "### We do not touch the test samples."
   ]
  },
  {
   "cell_type": "code",
   "execution_count": 13,
   "metadata": {},
   "outputs": [],
   "source": [
    "X_train, X_test, y_train, y_test = train_test_split(df, df['Label'], test_size=0.2, stratify=df['Label'])"
   ]
  },
  {
   "cell_type": "code",
   "execution_count": 14,
   "metadata": {},
   "outputs": [],
   "source": [
    "df = X_train.copy()"
   ]
  },
  {
   "cell_type": "markdown",
   "metadata": {},
   "source": [
    "### Simple check for duplicates\n",
    "It needs a good function to evaluate the uniqueness of the text. \n",
    "To save time in the baseline, I am not doing research."
   ]
  },
  {
   "cell_type": "code",
   "execution_count": 15,
   "metadata": {},
   "outputs": [],
   "source": [
    "df.drop_duplicates(subset=['Text'], keep='last', inplace=True)\n",
    "df.drop_duplicates(subset=['Сlean text'], keep='last', inplace=True)"
   ]
  },
  {
   "cell_type": "code",
   "execution_count": 16,
   "metadata": {},
   "outputs": [
    {
     "name": "stderr",
     "output_type": "stream",
     "text": [
      "100%|█████████████████████████████████████| 12311/12311 [02:19<00:00, 88.51it/s]\n"
     ]
    }
   ],
   "source": [
    "import Levenshtein\n",
    "\n",
    "max_distance_list = []\n",
    "text_list = list(df['Сlean text'])\n",
    "\n",
    "t = tqdm(range(df.shape[0]-1), ncols=80)\n",
    "\n",
    "for a in t:\n",
    "    max_distance = float('-inf')    \n",
    "    a_text = text_list[a]    \n",
    "    for b, (b_text) in enumerate(text_list):\n",
    "        if a == b: continue\n",
    "        distance = Levenshtein.ratio(a_text, b_text)\n",
    "        if distance > max_distance: \n",
    "            max_distance = distance\n",
    "    max_distance_list.append(max_distance)\n",
    "max_distance_list.append(0.5)\n",
    "df[\"Distance\"] = max_distance_list"
   ]
  },
  {
   "cell_type": "code",
   "execution_count": 17,
   "metadata": {},
   "outputs": [
    {
     "data": {
      "text/html": [
       "<div>\n",
       "<style scoped>\n",
       "    .dataframe tbody tr th:only-of-type {\n",
       "        vertical-align: middle;\n",
       "    }\n",
       "\n",
       "    .dataframe tbody tr th {\n",
       "        vertical-align: top;\n",
       "    }\n",
       "\n",
       "    .dataframe thead th {\n",
       "        text-align: right;\n",
       "    }\n",
       "</style>\n",
       "<table border=\"1\" class=\"dataframe\">\n",
       "  <thead>\n",
       "    <tr style=\"text-align: right;\">\n",
       "      <th></th>\n",
       "      <th>Text</th>\n",
       "      <th>Label</th>\n",
       "      <th>Сlean text</th>\n",
       "      <th>Distance</th>\n",
       "    </tr>\n",
       "  </thead>\n",
       "  <tbody>\n",
       "    <tr>\n",
       "      <th>16355</th>\n",
       "      <td>\"Monday through Friday - 9:30am, 12:00n, 2:30p...</td>\n",
       "      <td>0</td>\n",
       "      <td>monday through friday 9:30am 12:00n 2:30pm 6:00pm</td>\n",
       "      <td>0.602740</td>\n",
       "    </tr>\n",
       "    <tr>\n",
       "      <th>8696</th>\n",
       "      <td>Looking Forward</td>\n",
       "      <td>0</td>\n",
       "      <td>look forward</td>\n",
       "      <td>0.800000</td>\n",
       "    </tr>\n",
       "    <tr>\n",
       "      <th>12529</th>\n",
       "      <td>We strive for a culture that truly believes in...</td>\n",
       "      <td>0</td>\n",
       "      <td>we strive for a culture that truly believe in ...</td>\n",
       "      <td>0.614173</td>\n",
       "    </tr>\n",
       "    <tr>\n",
       "      <th>1373</th>\n",
       "      <td>\"Offset Print &amp; Packaging operate from a state...</td>\n",
       "      <td>0</td>\n",
       "      <td>offset print packaging operate from a state of...</td>\n",
       "      <td>0.527881</td>\n",
       "    </tr>\n",
       "    <tr>\n",
       "      <th>13280</th>\n",
       "      <td>The result is high-quality furniture made just...</td>\n",
       "      <td>0</td>\n",
       "      <td>the result be high quality furniture make just...</td>\n",
       "      <td>0.557692</td>\n",
       "    </tr>\n",
       "    <tr>\n",
       "      <th>...</th>\n",
       "      <td>...</td>\n",
       "      <td>...</td>\n",
       "      <td>...</td>\n",
       "      <td>...</td>\n",
       "    </tr>\n",
       "    <tr>\n",
       "      <th>6446</th>\n",
       "      <td>\"At Farm Service, Inc., you'll find a full-lin...</td>\n",
       "      <td>1</td>\n",
       "      <td>at farm service inc. you 'll find a full line ...</td>\n",
       "      <td>0.600000</td>\n",
       "    </tr>\n",
       "    <tr>\n",
       "      <th>7752</th>\n",
       "      <td>\"Collin has university sales and leadership ce...</td>\n",
       "      <td>0</td>\n",
       "      <td>collin have university sale and leadership cer...</td>\n",
       "      <td>0.500000</td>\n",
       "    </tr>\n",
       "    <tr>\n",
       "      <th>3258</th>\n",
       "      <td>\"Co-Founder, Product Manager\"</td>\n",
       "      <td>0</td>\n",
       "      <td>co founder product manager</td>\n",
       "      <td>0.818182</td>\n",
       "    </tr>\n",
       "    <tr>\n",
       "      <th>6576</th>\n",
       "      <td>\"At Google, Prem leads Google's health efforts...</td>\n",
       "      <td>0</td>\n",
       "      <td>at google prem lead google 's health effort in...</td>\n",
       "      <td>0.519481</td>\n",
       "    </tr>\n",
       "    <tr>\n",
       "      <th>11632</th>\n",
       "      <td>Stay Connected | Follow us to see how we conne...</td>\n",
       "      <td>0</td>\n",
       "      <td>stay connected follow we to see how we connect...</td>\n",
       "      <td>0.500000</td>\n",
       "    </tr>\n",
       "  </tbody>\n",
       "</table>\n",
       "<p>12312 rows × 4 columns</p>\n",
       "</div>"
      ],
      "text/plain": [
       "                                                    Text  Label  \\\n",
       "16355  \"Monday through Friday - 9:30am, 12:00n, 2:30p...      0   \n",
       "8696                                     Looking Forward      0   \n",
       "12529  We strive for a culture that truly believes in...      0   \n",
       "1373   \"Offset Print & Packaging operate from a state...      0   \n",
       "13280  The result is high-quality furniture made just...      0   \n",
       "...                                                  ...    ...   \n",
       "6446   \"At Farm Service, Inc., you'll find a full-lin...      1   \n",
       "7752   \"Collin has university sales and leadership ce...      0   \n",
       "3258                       \"Co-Founder, Product Manager\"      0   \n",
       "6576   \"At Google, Prem leads Google's health efforts...      0   \n",
       "11632  Stay Connected | Follow us to see how we conne...      0   \n",
       "\n",
       "                                              Сlean text  Distance  \n",
       "16355  monday through friday 9:30am 12:00n 2:30pm 6:00pm  0.602740  \n",
       "8696                                        look forward  0.800000  \n",
       "12529  we strive for a culture that truly believe in ...  0.614173  \n",
       "1373   offset print packaging operate from a state of...  0.527881  \n",
       "13280  the result be high quality furniture make just...  0.557692  \n",
       "...                                                  ...       ...  \n",
       "6446   at farm service inc. you 'll find a full line ...  0.600000  \n",
       "7752   collin have university sale and leadership cer...  0.500000  \n",
       "3258                          co founder product manager  0.818182  \n",
       "6576   at google prem lead google 's health effort in...  0.519481  \n",
       "11632  stay connected follow we to see how we connect...  0.500000  \n",
       "\n",
       "[12312 rows x 4 columns]"
      ]
     },
     "execution_count": 17,
     "metadata": {},
     "output_type": "execute_result"
    }
   ],
   "source": [
    "df"
   ]
  },
  {
   "cell_type": "code",
   "execution_count": 18,
   "metadata": {},
   "outputs": [
    {
     "data": {
      "image/png": "[encoded data removed]",
      "text/plain": [
       "<Figure size 1152x720 with 1 Axes>"
      ]
     },
     "metadata": {
      "needs_background": "light"
     },
     "output_type": "display_data"
    }
   ],
   "source": [
    "plt.boxplot(df['Distance'])\n",
    "plt.show()"
   ]
  },
  {
   "cell_type": "code",
   "execution_count": 19,
   "metadata": {},
   "outputs": [
    {
     "name": "stdout",
     "output_type": "stream",
     "text": [
      "0.09539190353143845 0.7477390180878554 0.3661714039621015\n"
     ]
    }
   ],
   "source": [
    "q1 = np.quantile(df['Distance'], 0.25)\n",
    "q3 = np.quantile(df['Distance'], 0.75)\n",
    "med = np.median(df['Distance'])\n",
    "iqr = q3-q1\n",
    "upper_bound = q3+(1.5*iqr)\n",
    "lower_bound = q1-(1.5*iqr)\n",
    "print(iqr, upper_bound, lower_bound)"
   ]
  },
  {
   "cell_type": "code",
   "execution_count": 20,
   "metadata": {},
   "outputs": [
    {
     "data": {
      "text/plain": [
       "Text          22\n",
       "Label         22\n",
       "Сlean text    22\n",
       "Distance      22\n",
       "dtype: int64"
      ]
     },
     "execution_count": 20,
     "metadata": {},
     "output_type": "execute_result"
    }
   ],
   "source": [
    "df[(df['Distance'] > upper_bound) & (df['Label'] == 1)].count()"
   ]
  },
  {
   "cell_type": "code",
   "execution_count": 21,
   "metadata": {},
   "outputs": [
    {
     "data": {
      "text/plain": [
       "Text          0\n",
       "Label         0\n",
       "Сlean text    0\n",
       "Distance      0\n",
       "dtype: int64"
      ]
     },
     "execution_count": 21,
     "metadata": {},
     "output_type": "execute_result"
    }
   ],
   "source": [
    "df[(df['Distance'] >= 1) & (df['Label'] == 1)].count()"
   ]
  },
  {
   "cell_type": "code",
   "execution_count": 22,
   "metadata": {},
   "outputs": [
    {
     "data": {
      "text/plain": [
       "Text          955\n",
       "Label         955\n",
       "Сlean text    955\n",
       "Distance      955\n",
       "dtype: int64"
      ]
     },
     "execution_count": 22,
     "metadata": {},
     "output_type": "execute_result"
    }
   ],
   "source": [
    "df[(df['Distance'] > upper_bound) & (df['Label'] == 0)].count()"
   ]
  },
  {
   "cell_type": "code",
   "execution_count": 23,
   "metadata": {},
   "outputs": [
    {
     "data": {
      "text/plain": [
       "Text          0\n",
       "Label         0\n",
       "Сlean text    0\n",
       "Distance      0\n",
       "dtype: int64"
      ]
     },
     "execution_count": 23,
     "metadata": {},
     "output_type": "execute_result"
    }
   ],
   "source": [
    "df[(df['Distance'] >= 1) & (df['Label'] == 0)].count()"
   ]
  },
  {
   "cell_type": "markdown",
   "metadata": {},
   "source": [
    "#### Removing non-unique rows"
   ]
  },
  {
   "cell_type": "code",
   "execution_count": 24,
   "metadata": {},
   "outputs": [],
   "source": [
    "df.drop(df[df['Distance'] >= 1].index, axis=0, inplace=True)\n",
    "df.drop(df[(df['Distance'] >= 1) & (df['Label'] == 1)].index, axis=0, inplace=True)\n",
    "df.drop(df[(df['Distance'] > upper_bound) & (df['Label'] == 0)].index, axis=0, inplace=True)"
   ]
  },
  {
   "cell_type": "code",
   "execution_count": 25,
   "metadata": {},
   "outputs": [
    {
     "data": {
      "text/html": [
       "<div>\n",
       "<style scoped>\n",
       "    .dataframe tbody tr th:only-of-type {\n",
       "        vertical-align: middle;\n",
       "    }\n",
       "\n",
       "    .dataframe tbody tr th {\n",
       "        vertical-align: top;\n",
       "    }\n",
       "\n",
       "    .dataframe thead th {\n",
       "        text-align: right;\n",
       "    }\n",
       "</style>\n",
       "<table border=\"1\" class=\"dataframe\">\n",
       "  <thead>\n",
       "    <tr style=\"text-align: right;\">\n",
       "      <th></th>\n",
       "      <th>Text</th>\n",
       "      <th>Label</th>\n",
       "      <th>Сlean text</th>\n",
       "      <th>Distance</th>\n",
       "    </tr>\n",
       "  </thead>\n",
       "  <tbody>\n",
       "  </tbody>\n",
       "</table>\n",
       "</div>"
      ],
      "text/plain": [
       "Empty DataFrame\n",
       "Columns: [Text, Label, Сlean text, Distance]\n",
       "Index: []"
      ]
     },
     "execution_count": 25,
     "metadata": {},
     "output_type": "execute_result"
    }
   ],
   "source": [
    "df[df.duplicated(subset=['Сlean text'])]"
   ]
  },
  {
   "cell_type": "code",
   "execution_count": 26,
   "metadata": {},
   "outputs": [
    {
     "data": {
      "text/html": [
       "<div>\n",
       "<style scoped>\n",
       "    .dataframe tbody tr th:only-of-type {\n",
       "        vertical-align: middle;\n",
       "    }\n",
       "\n",
       "    .dataframe tbody tr th {\n",
       "        vertical-align: top;\n",
       "    }\n",
       "\n",
       "    .dataframe thead th {\n",
       "        text-align: right;\n",
       "    }\n",
       "</style>\n",
       "<table border=\"1\" class=\"dataframe\">\n",
       "  <thead>\n",
       "    <tr style=\"text-align: right;\">\n",
       "      <th></th>\n",
       "      <th>Text</th>\n",
       "      <th>Label</th>\n",
       "      <th>Сlean text</th>\n",
       "      <th>Distance</th>\n",
       "    </tr>\n",
       "  </thead>\n",
       "  <tbody>\n",
       "    <tr>\n",
       "      <th>16355</th>\n",
       "      <td>\"Monday through Friday - 9:30am, 12:00n, 2:30p...</td>\n",
       "      <td>0</td>\n",
       "      <td>monday through friday 9:30am 12:00n 2:30pm 6:00pm</td>\n",
       "      <td>0.602740</td>\n",
       "    </tr>\n",
       "    <tr>\n",
       "      <th>12529</th>\n",
       "      <td>We strive for a culture that truly believes in...</td>\n",
       "      <td>0</td>\n",
       "      <td>we strive for a culture that truly believe in ...</td>\n",
       "      <td>0.614173</td>\n",
       "    </tr>\n",
       "    <tr>\n",
       "      <th>1373</th>\n",
       "      <td>\"Offset Print &amp; Packaging operate from a state...</td>\n",
       "      <td>0</td>\n",
       "      <td>offset print packaging operate from a state of...</td>\n",
       "      <td>0.527881</td>\n",
       "    </tr>\n",
       "    <tr>\n",
       "      <th>13280</th>\n",
       "      <td>The result is high-quality furniture made just...</td>\n",
       "      <td>0</td>\n",
       "      <td>the result be high quality furniture make just...</td>\n",
       "      <td>0.557692</td>\n",
       "    </tr>\n",
       "    <tr>\n",
       "      <th>5140</th>\n",
       "      <td>\"Steve has worked with some of the largest glo...</td>\n",
       "      <td>0</td>\n",
       "      <td>steve have work with some of the large global ...</td>\n",
       "      <td>0.495114</td>\n",
       "    </tr>\n",
       "    <tr>\n",
       "      <th>...</th>\n",
       "      <td>...</td>\n",
       "      <td>...</td>\n",
       "      <td>...</td>\n",
       "      <td>...</td>\n",
       "    </tr>\n",
       "    <tr>\n",
       "      <th>560</th>\n",
       "      <td>\"Consistent with our commitment to customer se...</td>\n",
       "      <td>1</td>\n",
       "      <td>consistent with our commitment to customer ser...</td>\n",
       "      <td>0.504792</td>\n",
       "    </tr>\n",
       "    <tr>\n",
       "      <th>6446</th>\n",
       "      <td>\"At Farm Service, Inc., you'll find a full-lin...</td>\n",
       "      <td>1</td>\n",
       "      <td>at farm service inc. you 'll find a full line ...</td>\n",
       "      <td>0.600000</td>\n",
       "    </tr>\n",
       "    <tr>\n",
       "      <th>7752</th>\n",
       "      <td>\"Collin has university sales and leadership ce...</td>\n",
       "      <td>0</td>\n",
       "      <td>collin have university sale and leadership cer...</td>\n",
       "      <td>0.500000</td>\n",
       "    </tr>\n",
       "    <tr>\n",
       "      <th>6576</th>\n",
       "      <td>\"At Google, Prem leads Google's health efforts...</td>\n",
       "      <td>0</td>\n",
       "      <td>at google prem lead google 's health effort in...</td>\n",
       "      <td>0.519481</td>\n",
       "    </tr>\n",
       "    <tr>\n",
       "      <th>11632</th>\n",
       "      <td>Stay Connected | Follow us to see how we conne...</td>\n",
       "      <td>0</td>\n",
       "      <td>stay connected follow we to see how we connect...</td>\n",
       "      <td>0.500000</td>\n",
       "    </tr>\n",
       "  </tbody>\n",
       "</table>\n",
       "<p>11357 rows × 4 columns</p>\n",
       "</div>"
      ],
      "text/plain": [
       "                                                    Text  Label  \\\n",
       "16355  \"Monday through Friday - 9:30am, 12:00n, 2:30p...      0   \n",
       "12529  We strive for a culture that truly believes in...      0   \n",
       "1373   \"Offset Print & Packaging operate from a state...      0   \n",
       "13280  The result is high-quality furniture made just...      0   \n",
       "5140   \"Steve has worked with some of the largest glo...      0   \n",
       "...                                                  ...    ...   \n",
       "560    \"Consistent with our commitment to customer se...      1   \n",
       "6446   \"At Farm Service, Inc., you'll find a full-lin...      1   \n",
       "7752   \"Collin has university sales and leadership ce...      0   \n",
       "6576   \"At Google, Prem leads Google's health efforts...      0   \n",
       "11632  Stay Connected | Follow us to see how we conne...      0   \n",
       "\n",
       "                                              Сlean text  Distance  \n",
       "16355  monday through friday 9:30am 12:00n 2:30pm 6:00pm  0.602740  \n",
       "12529  we strive for a culture that truly believe in ...  0.614173  \n",
       "1373   offset print packaging operate from a state of...  0.527881  \n",
       "13280  the result be high quality furniture make just...  0.557692  \n",
       "5140   steve have work with some of the large global ...  0.495114  \n",
       "...                                                  ...       ...  \n",
       "560    consistent with our commitment to customer ser...  0.504792  \n",
       "6446   at farm service inc. you 'll find a full line ...  0.600000  \n",
       "7752   collin have university sale and leadership cer...  0.500000  \n",
       "6576   at google prem lead google 's health effort in...  0.519481  \n",
       "11632  stay connected follow we to see how we connect...  0.500000  \n",
       "\n",
       "[11357 rows x 4 columns]"
      ]
     },
     "execution_count": 26,
     "metadata": {},
     "output_type": "execute_result"
    }
   ],
   "source": [
    "df"
   ]
  },
  {
   "cell_type": "markdown",
   "metadata": {},
   "source": [
    "### Simple improving distribution and independence"
   ]
  },
  {
   "cell_type": "code",
   "execution_count": 27,
   "metadata": {},
   "outputs": [],
   "source": [
    "# df.loc[df['Label'] == 1, 'w'] = 1.\n",
    "# df.loc[df['Label'] == 0, 'w'] = 1. - df['Distance']\n",
    "# df.loc[df['Label'] == 0, 'w'] = (df['w'] - df['w'].min()) / (df['w'].max() - df['w'].min())\n",
    "\n",
    "df['w'] = 1. - df['Distance']\n",
    "df['w'] = (df['w'] - df['w'].min()) / (df['w'].max() - df['w'].min())"
   ]
  },
  {
   "cell_type": "code",
   "execution_count": 28,
   "metadata": {},
   "outputs": [],
   "source": [
    "X = df['Сlean text']\n",
    "y = df['Label']\n",
    "w = df['w'].astype('float32')"
   ]
  },
  {
   "cell_type": "markdown",
   "metadata": {},
   "source": [
    "### Search for hyperparameters, using the statistically unreliable k-fold test. (To save time in the baseline)"
   ]
  },
  {
   "cell_type": "markdown",
   "metadata": {},
   "source": [
    "#### Rewriting cross_val_score because sklearn cross_val_score does not support weights."
   ]
  },
  {
   "cell_type": "code",
   "execution_count": 29,
   "metadata": {},
   "outputs": [],
   "source": [
    "from typing import Callable\n",
    "from joblib import Parallel, delayed\n",
    "from sklearn.base import clone\n",
    "\n",
    "def cross_val_score(\n",
    "        clf, \n",
    "        X: pd.DataFrame,\n",
    "        y: pd.Series,\n",
    "        cv_gen,\n",
    "        sample_weight_train: np.ndarray = None,\n",
    "        scoring: Callable[[np.array, np.array], float] = roc_auc_score,\n",
    "        n_jobs = -1):\n",
    "\n",
    "    # If no sample_weight then broadcast a value of 1 to all samples (full weight).\n",
    "    if sample_weight_train is None:\n",
    "        sample_weight_train = np.ones((X.shape[0],))\n",
    "        \n",
    "    if isinstance(cv_gen, list): cv_gen_list = cv_gen\n",
    "    else: cv_gen_list = list(cv_gen.split(X=X, y=y))      \n",
    "                        \n",
    "    def calc_fold(train, test):\n",
    "\n",
    "        if hasattr(X, 'iloc'):                \n",
    "            X_train_ = X.iloc[train]\n",
    "            X_test_ = X.iloc[test]\n",
    "\n",
    "            y_train_ = y.iloc[train]\n",
    "            y_test_ = y.iloc[test]\n",
    "            \n",
    "            w_train_ = sample_weight_train.iloc[train]\n",
    "\n",
    "        else:\n",
    "            X_train_ = X[train]\n",
    "            X_test_ = X[test]\n",
    "\n",
    "            y_train_ = y[train]\n",
    "            y_test_ = y[test]\n",
    "            \n",
    "            w_train_ = sample_weight_train[train]\n",
    "\n",
    "        classifier = clone(clf)\n",
    "        fit = classifier.fit(X = X_train_, y = y_train_, \n",
    "                             rf_classifier__sample_weight=w_train_)\n",
    "\n",
    "        if scoring == roc_auc_score:\n",
    "            prob = fit.predict_proba(X_test_)[:, 1]\n",
    "            score = scoring(y_test_, prob)\n",
    "        else:\n",
    "            pred = fit.predict(X_test_)\n",
    "            score = scoring(y_test_, pred)\n",
    "\n",
    "        return score\n",
    "        \n",
    "    # Score model on Folds\n",
    "    ret_scores = Parallel(n_jobs=n_jobs)(delayed(calc_fold)(train, test) for train, test in cv_gen_list)\n",
    "        \n",
    "    return np.array(ret_scores)"
   ]
  },
  {
   "cell_type": "code",
   "execution_count": 30,
   "metadata": {},
   "outputs": [],
   "source": [
    "def objective(trial):\n",
    "\n",
    "    rf_n_estimators = trial.suggest_int(\"rf_n_estimators\", 800, 1200, 100)\n",
    "    rf_max_depth = trial.suggest_int(\"rf_max_depth\", 14, 18)\n",
    "    \n",
    "    tfidf_max_features = trial.suggest_int(\"tfidf_max_features\", 6000, 9000, 100)\n",
    "    tfidf_min_df = trial.suggest_int(\"tfidf_min_df\", 1, 6, 1)\n",
    "    tfidf_max_df = trial.suggest_float(\"tfidf_max_df\", 0.17, 0.37, step=0.01)\n",
    "    \n",
    "\n",
    "    rf_classifier = RandomForestClassifier(n_estimators=rf_n_estimators, criterion='entropy', \n",
    "                                           max_depth=rf_max_depth, n_jobs=-1, class_weight='balanced_subsample')\n",
    "\n",
    "    \n",
    "    clf=Pipeline([\n",
    "            ('tfidf_vectorizer', TfidfVectorizer(max_features=tfidf_max_features, ngram_range=(1,3),\n",
    "                                                 min_df=tfidf_min_df, max_df=tfidf_max_df)),\n",
    "            ('rf_classifier', rf_classifier)\n",
    "        ])\n",
    "    \n",
    "    cv_gen = RepeatedStratifiedKFold(n_splits=5, n_repeats=2)\n",
    "    cv_gen_list = list(cv_gen.split(X, y))\n",
    "    \n",
    "    new_score = cross_val_score(clf,\n",
    "                                X=X, y=y,\n",
    "                                cv_gen=cv_gen_list,\n",
    "                                sample_weight_train=w,\n",
    "                                scoring=f1_score,\n",
    "                                )\n",
    "\n",
    "    return new_score.mean()"
   ]
  },
  {
   "cell_type": "code",
   "execution_count": 31,
   "metadata": {
    "scrolled": true
   },
   "outputs": [
    {
     "name": "stderr",
     "output_type": "stream",
     "text": [
      "[I 2021-08-23 16:18:16,713] A new study created in memory with name: no-name-1252b444-3923-4c6c-af07-345b54d04e2e\n",
      "/usr/local/lib/python3.7/dist-packages/optuna/progress_bar.py:46: ExperimentalWarning: Progress bar is experimental (supported from v1.2.0). The interface can change in the future.\n",
      "  self._init_valid()\n"
     ]
    },
    {
     "data": {
      "application/vnd.jupyter.widget-view+json": {
       "model_id": "9a627aedb10c443f89b0ae7a4bc44f13",
       "version_major": 2,
       "version_minor": 0
      },
      "text/plain": [
       "  0%|          | 0/50 [00:00<?, ?it/s]"
      ]
     },
     "metadata": {},
     "output_type": "display_data"
    },
    {
     "name": "stdout",
     "output_type": "stream",
     "text": [
      "[I 2021-08-23 16:18:41,790] Trial 0 finished with value: 0.5147993256998497 and parameters: {'rf_n_estimators': 1100, 'rf_max_depth': 18, 'tfidf_max_features': 8300, 'tfidf_min_df': 1, 'tfidf_max_df': 0.34}. Best is trial 0 with value: 0.5147993256998497.\n",
      "[I 2021-08-23 16:19:06,274] Trial 1 finished with value: 0.5310113771100033 and parameters: {'rf_n_estimators': 1200, 'rf_max_depth': 17, 'tfidf_max_features': 7800, 'tfidf_min_df': 1, 'tfidf_max_df': 0.31000000000000005}. Best is trial 1 with value: 0.5310113771100033.\n",
      "[I 2021-08-23 16:19:30,660] Trial 2 finished with value: 0.5316894155665355 and parameters: {'rf_n_estimators': 1200, 'rf_max_depth': 17, 'tfidf_max_features': 6400, 'tfidf_min_df': 4, 'tfidf_max_df': 0.24000000000000002}. Best is trial 2 with value: 0.5316894155665355.\n",
      "[I 2021-08-23 16:19:53,298] Trial 3 finished with value: 0.5344598649840042 and parameters: {'rf_n_estimators': 1200, 'rf_max_depth': 15, 'tfidf_max_features': 8200, 'tfidf_min_df': 1, 'tfidf_max_df': 0.17}. Best is trial 3 with value: 0.5344598649840042.\n",
      "[I 2021-08-23 16:20:13,030] Trial 4 finished with value: 0.53152030005659 and parameters: {'rf_n_estimators': 1000, 'rf_max_depth': 15, 'tfidf_max_features': 6300, 'tfidf_min_df': 6, 'tfidf_max_df': 0.23}. Best is trial 3 with value: 0.5344598649840042.\n",
      "[I 2021-08-23 16:20:33,861] Trial 5 finished with value: 0.5194156844825826 and parameters: {'rf_n_estimators': 1100, 'rf_max_depth': 14, 'tfidf_max_features': 9000, 'tfidf_min_df': 1, 'tfidf_max_df': 0.36}. Best is trial 3 with value: 0.5344598649840042.\n",
      "[I 2021-08-23 16:20:57,522] Trial 6 finished with value: 0.5173204093200195 and parameters: {'rf_n_estimators': 1200, 'rf_max_depth': 15, 'tfidf_max_features': 6200, 'tfidf_min_df': 4, 'tfidf_max_df': 0.35}. Best is trial 3 with value: 0.5344598649840042.\n",
      "[I 2021-08-23 16:21:18,902] Trial 7 finished with value: 0.5282941776059794 and parameters: {'rf_n_estimators': 1100, 'rf_max_depth': 15, 'tfidf_max_features': 8900, 'tfidf_min_df': 5, 'tfidf_max_df': 0.33}. Best is trial 3 with value: 0.5344598649840042.\n",
      "[I 2021-08-23 16:21:37,375] Trial 8 finished with value: 0.522069358087639 and parameters: {'rf_n_estimators': 900, 'rf_max_depth': 16, 'tfidf_max_features': 7300, 'tfidf_min_df': 1, 'tfidf_max_df': 0.31000000000000005}. Best is trial 3 with value: 0.5344598649840042.\n",
      "[I 2021-08-23 16:21:56,087] Trial 9 finished with value: 0.5299850364809102 and parameters: {'rf_n_estimators': 900, 'rf_max_depth': 17, 'tfidf_max_features': 8100, 'tfidf_min_df': 2, 'tfidf_max_df': 0.21000000000000002}. Best is trial 3 with value: 0.5344598649840042.\n",
      "[I 2021-08-23 16:22:11,612] Trial 10 finished with value: 0.524624705632463 and parameters: {'rf_n_estimators': 800, 'rf_max_depth': 14, 'tfidf_max_features': 7100, 'tfidf_min_df': 3, 'tfidf_max_df': 0.17}. Best is trial 3 with value: 0.5344598649840042.\n",
      "[I 2021-08-23 16:22:35,759] Trial 11 finished with value: 0.5281458676798616 and parameters: {'rf_n_estimators': 1200, 'rf_max_depth': 17, 'tfidf_max_features': 6800, 'tfidf_min_df': 4, 'tfidf_max_df': 0.17}. Best is trial 3 with value: 0.5344598649840042.\n",
      "[I 2021-08-23 16:22:59,288] Trial 12 finished with value: 0.5317732591121609 and parameters: {'rf_n_estimators': 1200, 'rf_max_depth': 16, 'tfidf_max_features': 8500, 'tfidf_min_df': 3, 'tfidf_max_df': 0.25}. Best is trial 3 with value: 0.5344598649840042.\n",
      "[I 2021-08-23 16:23:21,163] Trial 13 finished with value: 0.5340322639007493 and parameters: {'rf_n_estimators': 1100, 'rf_max_depth': 16, 'tfidf_max_features': 8500, 'tfidf_min_df': 2, 'tfidf_max_df': 0.27}. Best is trial 3 with value: 0.5344598649840042.\n",
      "[I 2021-08-23 16:23:40,706] Trial 14 finished with value: 0.53308543452358 and parameters: {'rf_n_estimators': 1000, 'rf_max_depth': 15, 'tfidf_max_features': 8600, 'tfidf_min_df': 2, 'tfidf_max_df': 0.28}. Best is trial 3 with value: 0.5344598649840042.\n",
      "[I 2021-08-23 16:24:02,436] Trial 15 finished with value: 0.5320883447846211 and parameters: {'rf_n_estimators': 1100, 'rf_max_depth': 16, 'tfidf_max_features': 7800, 'tfidf_min_df': 2, 'tfidf_max_df': 0.2}. Best is trial 3 with value: 0.5344598649840042.\n",
      "[I 2021-08-23 16:24:22,983] Trial 16 finished with value: 0.5262924557228688 and parameters: {'rf_n_estimators': 1100, 'rf_max_depth': 14, 'tfidf_max_features': 8000, 'tfidf_min_df': 2, 'tfidf_max_df': 0.28}. Best is trial 3 with value: 0.5344598649840042.\n",
      "[I 2021-08-23 16:24:42,376] Trial 17 finished with value: 0.532949189270897 and parameters: {'rf_n_estimators': 1000, 'rf_max_depth': 15, 'tfidf_max_features': 8800, 'tfidf_min_df': 3, 'tfidf_max_df': 0.26}. Best is trial 3 with value: 0.5344598649840042.\n",
      "[I 2021-08-23 16:25:04,202] Trial 18 finished with value: 0.5319652124584271 and parameters: {'rf_n_estimators': 1100, 'rf_max_depth': 16, 'tfidf_max_features': 7600, 'tfidf_min_df': 2, 'tfidf_max_df': 0.2}. Best is trial 3 with value: 0.5344598649840042.\n",
      "[I 2021-08-23 16:25:23,821] Trial 19 finished with value: 0.5244946475665584 and parameters: {'rf_n_estimators': 900, 'rf_max_depth': 18, 'tfidf_max_features': 8300, 'tfidf_min_df': 1, 'tfidf_max_df': 0.30000000000000004}. Best is trial 3 with value: 0.5344598649840042.\n",
      "[I 2021-08-23 16:25:46,539] Trial 20 finished with value: 0.5304830973040995 and parameters: {'rf_n_estimators': 1200, 'rf_max_depth': 15, 'tfidf_max_features': 8500, 'tfidf_min_df': 3, 'tfidf_max_df': 0.22000000000000003}. Best is trial 3 with value: 0.5344598649840042.\n",
      "[I 2021-08-23 16:26:05,945] Trial 21 finished with value: 0.5299159612381414 and parameters: {'rf_n_estimators': 1000, 'rf_max_depth': 15, 'tfidf_max_features': 8700, 'tfidf_min_df': 2, 'tfidf_max_df': 0.28}. Best is trial 3 with value: 0.5344598649840042.\n",
      "[I 2021-08-23 16:26:25,861] Trial 22 finished with value: 0.5265455009084257 and parameters: {'rf_n_estimators': 1000, 'rf_max_depth': 16, 'tfidf_max_features': 8600, 'tfidf_min_df': 2, 'tfidf_max_df': 0.27}. Best is trial 3 with value: 0.5344598649840042.\n",
      "[I 2021-08-23 16:26:46,346] Trial 23 finished with value: 0.5295363444167084 and parameters: {'rf_n_estimators': 1100, 'rf_max_depth': 14, 'tfidf_max_features': 8200, 'tfidf_min_df': 1, 'tfidf_max_df': 0.29000000000000004}. Best is trial 3 with value: 0.5344598649840042.\n",
      "[I 2021-08-23 16:27:05,732] Trial 24 finished with value: 0.5260629411395923 and parameters: {'rf_n_estimators': 1000, 'rf_max_depth': 15, 'tfidf_max_features': 7900, 'tfidf_min_df': 2, 'tfidf_max_df': 0.26}. Best is trial 3 with value: 0.5344598649840042.\n",
      "[I 2021-08-23 16:27:24,187] Trial 25 finished with value: 0.5289032978656719 and parameters: {'rf_n_estimators': 900, 'rf_max_depth': 16, 'tfidf_max_features': 9000, 'tfidf_min_df': 3, 'tfidf_max_df': 0.32}. Best is trial 3 with value: 0.5344598649840042.\n",
      "[I 2021-08-23 16:27:45,184] Trial 26 finished with value: 0.5269434969916599 and parameters: {'rf_n_estimators': 1100, 'rf_max_depth': 15, 'tfidf_max_features': 8400, 'tfidf_min_df': 1, 'tfidf_max_df': 0.24000000000000002}. Best is trial 3 with value: 0.5344598649840042.\n",
      "[I 2021-08-23 16:28:04,112] Trial 27 finished with value: 0.527026509862554 and parameters: {'rf_n_estimators': 1000, 'rf_max_depth': 14, 'tfidf_max_features': 7500, 'tfidf_min_df': 2, 'tfidf_max_df': 0.29000000000000004}. Best is trial 3 with value: 0.5344598649840042.\n",
      "[I 2021-08-23 16:28:25,224] Trial 28 finished with value: 0.532493696574746 and parameters: {'rf_n_estimators': 1100, 'rf_max_depth': 15, 'tfidf_max_features': 8700, 'tfidf_min_df': 1, 'tfidf_max_df': 0.27}. Best is trial 3 with value: 0.5344598649840042.\n",
      "[I 2021-08-23 16:28:48,758] Trial 29 finished with value: 0.5316952000866059 and parameters: {'rf_n_estimators': 1200, 'rf_max_depth': 16, 'tfidf_max_features': 8200, 'tfidf_min_df': 1, 'tfidf_max_df': 0.19}. Best is trial 3 with value: 0.5344598649840042.\n",
      "[I 2021-08-23 16:29:06,244] Trial 30 finished with value: 0.5256176824944391 and parameters: {'rf_n_estimators': 800, 'rf_max_depth': 18, 'tfidf_max_features': 8400, 'tfidf_min_df': 2, 'tfidf_max_df': 0.25}. Best is trial 3 with value: 0.5344598649840042.\n"
     ]
    },
    {
     "name": "stdout",
     "output_type": "stream",
     "text": [
      "[I 2021-08-23 16:29:25,651] Trial 31 finished with value: 0.5307909632573449 and parameters: {'rf_n_estimators': 1000, 'rf_max_depth': 15, 'tfidf_max_features': 8800, 'tfidf_min_df': 3, 'tfidf_max_df': 0.26}. Best is trial 3 with value: 0.5344598649840042.\n",
      "[I 2021-08-23 16:29:44,971] Trial 32 finished with value: 0.5375678328763508 and parameters: {'rf_n_estimators': 1000, 'rf_max_depth': 15, 'tfidf_max_features': 9000, 'tfidf_min_df': 3, 'tfidf_max_df': 0.30000000000000004}. Best is trial 32 with value: 0.5375678328763508.\n",
      "[I 2021-08-23 16:30:03,599] Trial 33 finished with value: 0.5271062627012146 and parameters: {'rf_n_estimators': 900, 'rf_max_depth': 17, 'tfidf_max_features': 9000, 'tfidf_min_df': 3, 'tfidf_max_df': 0.31000000000000005}. Best is trial 32 with value: 0.5375678328763508.\n",
      "[I 2021-08-23 16:30:22,985] Trial 34 finished with value: 0.5341461459332962 and parameters: {'rf_n_estimators': 1000, 'rf_max_depth': 15, 'tfidf_max_features': 8600, 'tfidf_min_df': 4, 'tfidf_max_df': 0.33}. Best is trial 32 with value: 0.5375678328763508.\n",
      "[I 2021-08-23 16:30:42,169] Trial 35 finished with value: 0.5200902341724136 and parameters: {'rf_n_estimators': 1000, 'rf_max_depth': 14, 'tfidf_max_features': 8200, 'tfidf_min_df': 4, 'tfidf_max_df': 0.37}. Best is trial 32 with value: 0.5375678328763508.\n",
      "[I 2021-08-23 16:31:04,374] Trial 36 finished with value: 0.5198503945461267 and parameters: {'rf_n_estimators': 1100, 'rf_max_depth': 16, 'tfidf_max_features': 7700, 'tfidf_min_df': 5, 'tfidf_max_df': 0.34}. Best is trial 32 with value: 0.5375678328763508.\n",
      "[I 2021-08-23 16:31:27,266] Trial 37 finished with value: 0.5297426474404785 and parameters: {'rf_n_estimators': 1200, 'rf_max_depth': 15, 'tfidf_max_features': 9000, 'tfidf_min_df': 5, 'tfidf_max_df': 0.33}. Best is trial 32 with value: 0.5375678328763508.\n",
      "[I 2021-08-23 16:31:48,662] Trial 38 finished with value: 0.5187422249597226 and parameters: {'rf_n_estimators': 1100, 'rf_max_depth': 15, 'tfidf_max_features': 8800, 'tfidf_min_df': 4, 'tfidf_max_df': 0.35}. Best is trial 32 with value: 0.5375678328763508.\n",
      "[I 2021-08-23 16:32:06,778] Trial 39 finished with value: 0.532505008157437 and parameters: {'rf_n_estimators': 900, 'rf_max_depth': 16, 'tfidf_max_features': 8000, 'tfidf_min_df': 4, 'tfidf_max_df': 0.30000000000000004}. Best is trial 32 with value: 0.5375678328763508.\n",
      "[I 2021-08-23 16:32:27,403] Trial 40 finished with value: 0.5307449564741906 and parameters: {'rf_n_estimators': 1000, 'rf_max_depth': 17, 'tfidf_max_features': 8400, 'tfidf_min_df': 5, 'tfidf_max_df': 0.33}. Best is trial 32 with value: 0.5375678328763508.\n",
      "[I 2021-08-23 16:32:46,612] Trial 41 finished with value: 0.5282538797578125 and parameters: {'rf_n_estimators': 1000, 'rf_max_depth': 15, 'tfidf_max_features': 8600, 'tfidf_min_df': 4, 'tfidf_max_df': 0.31000000000000005}. Best is trial 32 with value: 0.5375678328763508.\n",
      "[I 2021-08-23 16:33:04,236] Trial 42 finished with value: 0.5274208565108277 and parameters: {'rf_n_estimators': 900, 'rf_max_depth': 15, 'tfidf_max_features': 8600, 'tfidf_min_df': 3, 'tfidf_max_df': 0.29000000000000004}. Best is trial 32 with value: 0.5375678328763508.\n",
      "[I 2021-08-23 16:33:22,979] Trial 43 finished with value: 0.5276929297093098 and parameters: {'rf_n_estimators': 1000, 'rf_max_depth': 14, 'tfidf_max_features': 8900, 'tfidf_min_df': 1, 'tfidf_max_df': 0.28}. Best is trial 32 with value: 0.5375678328763508.\n",
      "[I 2021-08-23 16:33:42,407] Trial 44 finished with value: 0.5239631915165506 and parameters: {'rf_n_estimators': 1000, 'rf_max_depth': 15, 'tfidf_max_features': 8500, 'tfidf_min_df': 6, 'tfidf_max_df': 0.32}. Best is trial 32 with value: 0.5375678328763508.\n",
      "[I 2021-08-23 16:34:04,077] Trial 45 finished with value: 0.5374448142500253 and parameters: {'rf_n_estimators': 1100, 'rf_max_depth': 16, 'tfidf_max_features': 8300, 'tfidf_min_df': 4, 'tfidf_max_df': 0.30000000000000004}. Best is trial 32 with value: 0.5375678328763508.\n",
      "[I 2021-08-23 16:34:26,029] Trial 46 finished with value: 0.5291477383919629 and parameters: {'rf_n_estimators': 1100, 'rf_max_depth': 16, 'tfidf_max_features': 8300, 'tfidf_min_df': 4, 'tfidf_max_df': 0.30000000000000004}. Best is trial 32 with value: 0.5375678328763508.\n",
      "[I 2021-08-23 16:34:49,538] Trial 47 finished with value: 0.5301585311113 and parameters: {'rf_n_estimators': 1200, 'rf_max_depth': 16, 'tfidf_max_features': 7300, 'tfidf_min_df': 5, 'tfidf_max_df': 0.32}. Best is trial 32 with value: 0.5375678328763508.\n",
      "[I 2021-08-23 16:35:12,704] Trial 48 finished with value: 0.5211319247323772 and parameters: {'rf_n_estimators': 1100, 'rf_max_depth': 17, 'tfidf_max_features': 8100, 'tfidf_min_df': 4, 'tfidf_max_df': 0.35}. Best is trial 32 with value: 0.5375678328763508.\n",
      "[I 2021-08-23 16:35:36,842] Trial 49 finished with value: 0.525549402130103 and parameters: {'rf_n_estimators': 1200, 'rf_max_depth': 16, 'tfidf_max_features': 7900, 'tfidf_min_df': 4, 'tfidf_max_df': 0.37}. Best is trial 32 with value: 0.5375678328763508.\n",
      "Best score 0.5375678328763508\n",
      "Best params {'rf_n_estimators': 1000, 'rf_max_depth': 15, 'tfidf_max_features': 9000, 'tfidf_min_df': 3, 'tfidf_max_df': 0.30000000000000004}\n"
     ]
    }
   ],
   "source": [
    "study = optuna.create_study(sampler=TPESampler(), direction=\"maximize\")\n",
    "study.optimize(objective, n_trials=50, show_progress_bar=True)\n",
    "print (\"Best score\", study.best_value)\n",
    "print (\"Best params\", study.best_params)"
   ]
  },
  {
   "cell_type": "code",
   "execution_count": 32,
   "metadata": {},
   "outputs": [],
   "source": [
    "# 0.5418288132882823"
   ]
  },
  {
   "cell_type": "markdown",
   "metadata": {},
   "source": [
    "### Test on test data"
   ]
  },
  {
   "cell_type": "code",
   "execution_count": 33,
   "metadata": {},
   "outputs": [],
   "source": [
    "rf_classifier = RandomForestClassifier(n_estimators=study.best_params['rf_n_estimators'], criterion='entropy', \n",
    "                                       max_depth=study.best_params['rf_max_depth'], n_jobs=-1, class_weight='balanced_subsample')\n",
    "\n",
    "clf=Pipeline([\n",
    "        ('tfidf_vectorizer', TfidfVectorizer(max_features=study.best_params['tfidf_max_features'], \n",
    "                                             min_df=study.best_params['tfidf_min_df'],\n",
    "                                             max_df=study.best_params['tfidf_max_df'],\n",
    "                                            )),\n",
    "        ('rf_classifier', rf_classifier)\n",
    "    ])"
   ]
  },
  {
   "cell_type": "code",
   "execution_count": 34,
   "metadata": {},
   "outputs": [
    {
     "data": {
      "text/plain": [
       "Pipeline(steps=[('tfidf_vectorizer',\n",
       "                 TfidfVectorizer(max_df=0.30000000000000004, max_features=9000,\n",
       "                                 min_df=3)),\n",
       "                ('rf_classifier',\n",
       "                 RandomForestClassifier(class_weight='balanced_subsample',\n",
       "                                        criterion='entropy', max_depth=15,\n",
       "                                        n_estimators=1000, n_jobs=-1))])"
      ]
     },
     "execution_count": 34,
     "metadata": {},
     "output_type": "execute_result"
    }
   ],
   "source": [
    "clf.fit(X, y, rf_classifier__sample_weight=w)"
   ]
  },
  {
   "cell_type": "code",
   "execution_count": 35,
   "metadata": {},
   "outputs": [
    {
     "name": "stdout",
     "output_type": "stream",
     "text": [
      "              precision    recall  f1-score   support\n",
      "\n",
      "           0       0.95      0.89      0.92      2969\n",
      "           1       0.42      0.66      0.52       376\n",
      "\n",
      "    accuracy                           0.86      3345\n",
      "   macro avg       0.69      0.77      0.72      3345\n",
      "weighted avg       0.89      0.86      0.87      3345\n",
      "\n",
      "Confusion Matrix\n",
      "[[2632  337]\n",
      " [ 128  248]]\n",
      "\n",
      "Roc auc score\n",
      "0.7730341185154397\n",
      "\n",
      "Target score\n",
      "0.5161290322580645\n"
     ]
    },
    {
     "data": {
      "image/png": "[encoded data removed]",
      "text/plain": [
       "<Figure size 1152x720 with 1 Axes>"
      ]
     },
     "metadata": {
      "needs_background": "light"
     },
     "output_type": "display_data"
    }
   ],
   "source": [
    "y_pred_rf = clf.predict_proba(X_test['Сlean text'])[:, 1]\n",
    "y_pred = clf.predict(X_test['Сlean text'])\n",
    "fpr_rf, tpr_rf, _ = roc_curve(y_test, y_pred_rf)\n",
    "print(classification_report(y_test, y_pred))\n",
    "\n",
    "print(\"Confusion Matrix\")\n",
    "print(confusion_matrix(y_test, y_pred))\n",
    "\n",
    "print('')\n",
    "print(\"Roc auc score\")\n",
    "print(roc_auc_score(y_test, y_pred))\n",
    "\n",
    "print('')\n",
    "print(\"Target score\")\n",
    "print(f1_score(y_test, y_pred))\n",
    "\n",
    "plt.figure(1)\n",
    "plt.plot([0, 1], [0, 1], 'k--')\n",
    "plt.plot(fpr_rf, tpr_rf, label='RF')\n",
    "plt.xlabel('False positive rate')\n",
    "plt.ylabel('True positive rate')\n",
    "plt.title('ROC curve')\n",
    "plt.legend(loc='best')\n",
    "plt.show()"
   ]
  },
  {
   "cell_type": "code",
   "execution_count": null,
   "metadata": {},
   "outputs": [],
   "source": []
  },
  {
   "cell_type": "code",
   "execution_count": null,
   "metadata": {},
   "outputs": [],
   "source": []
  }
 ],
 "metadata": {
  "kernelspec": {
   "display_name": "Python 3",
   "language": "python",
   "name": "python3"
  },
  "language_info": {
   "codemirror_mode": {
    "name": "ipython",
    "version": 3
   },
   "file_extension": ".py",
   "mimetype": "text/x-python",
   "name": "python",
   "nbconvert_exporter": "python",
   "pygments_lexer": "ipython3",
   "version": "3.7.9"
  }
 },
 "nbformat": 4,
 "nbformat_minor": 1
}
