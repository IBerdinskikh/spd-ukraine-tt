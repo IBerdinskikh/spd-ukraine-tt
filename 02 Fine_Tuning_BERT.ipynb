{
 "cells": [
  {
   "cell_type": "markdown",
   "metadata": {},
   "source": [
    "# 02 Fine Tuning BERT"
   ]
  },
  {
   "cell_type": "code",
   "execution_count": 1,
   "metadata": {},
   "outputs": [],
   "source": [
    "import pandas as pd\n",
    "import numpy as np\n",
    "import matplotlib.pyplot as plt\n",
    "import math\n",
    "import gc\n",
    "%matplotlib inline\n",
    "plt.rcParams['figure.figsize'] = (16, 10)\n",
    "pd.set_option('display.max_columns', 100)\n",
    "pd.set_option('display.max_rows', 100)\n",
    "from tqdm import tqdm\n",
    "\n",
    "import optuna\n",
    "from optuna.samplers import TPESampler\n",
    "from sklearn.model_selection import RepeatedStratifiedKFold\n",
    "from sklearn.base import BaseEstimator\n",
    "\n",
    "import re\n",
    "from sklearn.model_selection import train_test_split\n",
    "from sklearn.metrics import roc_curve, classification_report, confusion_matrix, roc_auc_score, f1_score\n",
    "\n",
    "from transformers import BertForSequenceClassification, BertTokenizerFast, AutoModel\n",
    "\n",
    "import torch\n",
    "import torch.nn as nn\n",
    "import torch.nn.functional as F\n",
    "import torch.optim as torch_optim\n",
    "from torch.utils.data import TensorDataset, DataLoader, RandomSampler, SequentialSampler\n",
    "from imbalanced import ImbalancedDatasetSampler"
   ]
  },
  {
   "cell_type": "markdown",
   "metadata": {},
   "source": [
    "### Load Dataset"
   ]
  },
  {
   "cell_type": "code",
   "execution_count": 2,
   "metadata": {},
   "outputs": [],
   "source": [
    "regex_str = re.compile(r\"(.+?),(About|None),(article_.+?),(.*)\") \n",
    "\n",
    "df_row_list = []\n",
    "f_in = open ('dataset/aboutlabeled.csv', 'r')\n",
    "for i, line in enumerate(f_in):\n",
    "    if i > 0:\n",
    "        r_match = re.match(regex_str, line)\n",
    "        df_row = [r_match[1], r_match[2], r_match[3], r_match[4]]\n",
    "        df_row_list.append(df_row)\n",
    "f_in.close()      \n",
    "\n",
    "df = pd.DataFrame(df_row_list)\n",
    "df.columns = ['Text', 'Label', 'ID', 'Offsets']"
   ]
  },
  {
   "cell_type": "markdown",
   "metadata": {},
   "source": [
    "### Encode y"
   ]
  },
  {
   "cell_type": "code",
   "execution_count": 3,
   "metadata": {},
   "outputs": [],
   "source": [
    "df.loc[df['Label'] == 'None', 'Label'] = 0\n",
    "df.loc[df['Label'] == 'About', 'Label'] = 1\n",
    "df['Label'] = df['Label'].astype(int)"
   ]
  },
  {
   "cell_type": "markdown",
   "metadata": {},
   "source": [
    "### Drop uninformative columns. I don't go deep into \"Offsets\", because DL model will do it."
   ]
  },
  {
   "cell_type": "code",
   "execution_count": 4,
   "metadata": {},
   "outputs": [],
   "source": [
    "df.drop(['ID', 'Offsets'], axis=1, inplace=True)\n",
    "df.dropna(inplace=True)\n",
    "df.drop_duplicates(subset=['Text'], keep='last', inplace=True)"
   ]
  },
  {
   "cell_type": "code",
   "execution_count": 5,
   "metadata": {},
   "outputs": [
    {
     "name": "stdout",
     "output_type": "stream",
     "text": [
      "<class 'pandas.core.frame.DataFrame'>\n",
      "Int64Index: 15511 entries, 0 to 16720\n",
      "Data columns (total 2 columns):\n",
      " #   Column  Non-Null Count  Dtype \n",
      "---  ------  --------------  ----- \n",
      " 0   Text    15511 non-null  object\n",
      " 1   Label   15511 non-null  int64 \n",
      "dtypes: int64(1), object(1)\n",
      "memory usage: 363.5+ KB\n"
     ]
    }
   ],
   "source": [
    "df.info()"
   ]
  },
  {
   "cell_type": "code",
   "execution_count": 6,
   "metadata": {},
   "outputs": [
    {
     "data": {
      "text/plain": [
       "0    0.879569\n",
       "1    0.120431\n",
       "Name: Label, dtype: float64"
      ]
     },
     "execution_count": 6,
     "metadata": {},
     "output_type": "execute_result"
    }
   ],
   "source": [
    "df['Label'].value_counts(normalize = True)"
   ]
  },
  {
   "cell_type": "markdown",
   "metadata": {},
   "source": [
    "### We do not touch the test samples."
   ]
  },
  {
   "cell_type": "code",
   "execution_count": 7,
   "metadata": {},
   "outputs": [],
   "source": [
    "X_train, X_test, y_train, y_test = train_test_split(df, df['Label'], test_size=0.2, stratify=df['Label'])"
   ]
  },
  {
   "cell_type": "code",
   "execution_count": 8,
   "metadata": {},
   "outputs": [],
   "source": [
    "df = X_train.copy()"
   ]
  },
  {
   "cell_type": "markdown",
   "metadata": {},
   "source": [
    "### AUG"
   ]
  },
  {
   "cell_type": "code",
   "execution_count": 9,
   "metadata": {},
   "outputs": [],
   "source": [
    "import nlpaug.augmenter.word as naw"
   ]
  },
  {
   "cell_type": "code",
   "execution_count": 10,
   "metadata": {},
   "outputs": [],
   "source": [
    "text_list = list(df[df['Label'] == 1]['Text'])"
   ]
  },
  {
   "cell_type": "code",
   "execution_count": 11,
   "metadata": {
    "scrolled": true
   },
   "outputs": [
    {
     "name": "stderr",
     "output_type": "stream",
     "text": [
      "100%|██████████| 5/5 [21:17<00:00, 255.57s/it]\n"
     ]
    }
   ],
   "source": [
    "translation_list = [('Helsinki-NLP/opus-mt-en-de', 'Helsinki-NLP/opus-mt-de-en'),\n",
    "                    ('Helsinki-NLP/opus-mt-en-fr', 'Helsinki-NLP/opus-mt-fr-en'),\n",
    "                    ('Helsinki-NLP/opus-mt-en-es', 'Helsinki-NLP/opus-mt-es-en'),\n",
    "                    ('facebook/wmt19-en-de', 'facebook/wmt19-de-en'),\n",
    "                    ('facebook/wmt19-en-ru', 'facebook/wmt19-ru-en'),\n",
    "                   ]\n",
    "augmented_list = []\n",
    "for tfrom, tto in tqdm(translation_list):\n",
    "    back_translation_aug = naw.BackTranslationAug(from_model_name=tfrom, to_model_name=tto, \n",
    "                                                  device='cuda', batch_size=16)\n",
    "    augmented_list += back_translation_aug.augment(text_list)\n",
    "    del (back_translation_aug)\n",
    "    gc.collect()"
   ]
  },
  {
   "cell_type": "code",
   "execution_count": 12,
   "metadata": {},
   "outputs": [],
   "source": [
    "def remove_quotes(text):\n",
    "    return text.replace('\"', '')\n",
    "\n",
    "df_aug = pd.DataFrame([])\n",
    "df_aug['Text'] = augmented_list\n",
    "df_aug['Text'] = df_aug['Text'].apply(remove_quotes)\n",
    "df_aug['Label'] = 1\n",
    "df_aug['is_aug'] = 1\n",
    "\n",
    "df['is_aug'] = 0\n",
    "df = pd.concat([df, df_aug], ignore_index=True)\n",
    "df.drop_duplicates(subset=['Text'], keep='last', inplace=True)"
   ]
  },
  {
   "cell_type": "code",
   "execution_count": 13,
   "metadata": {},
   "outputs": [
    {
     "data": {
      "text/html": [
       "<div>\n",
       "<style scoped>\n",
       "    .dataframe tbody tr th:only-of-type {\n",
       "        vertical-align: middle;\n",
       "    }\n",
       "\n",
       "    .dataframe tbody tr th {\n",
       "        vertical-align: top;\n",
       "    }\n",
       "\n",
       "    .dataframe thead th {\n",
       "        text-align: right;\n",
       "    }\n",
       "</style>\n",
       "<table border=\"1\" class=\"dataframe\">\n",
       "  <thead>\n",
       "    <tr style=\"text-align: right;\">\n",
       "      <th></th>\n",
       "      <th>Text</th>\n",
       "      <th>Label</th>\n",
       "      <th>is_aug</th>\n",
       "    </tr>\n",
       "  </thead>\n",
       "  <tbody>\n",
       "    <tr>\n",
       "      <th>0</th>\n",
       "      <td>\"Our work environment is one in which team mem...</td>\n",
       "      <td>0</td>\n",
       "      <td>0</td>\n",
       "    </tr>\n",
       "    <tr>\n",
       "      <th>1</th>\n",
       "      <td>\"I have actually been told by one of my custom...</td>\n",
       "      <td>0</td>\n",
       "      <td>0</td>\n",
       "    </tr>\n",
       "    <tr>\n",
       "      <th>2</th>\n",
       "      <td>\"With our novel strength training and performa...</td>\n",
       "      <td>1</td>\n",
       "      <td>0</td>\n",
       "    </tr>\n",
       "    <tr>\n",
       "      <th>3</th>\n",
       "      <td>\"Most recently, Mr. Appleby served as a Senior...</td>\n",
       "      <td>1</td>\n",
       "      <td>0</td>\n",
       "    </tr>\n",
       "    <tr>\n",
       "      <th>4</th>\n",
       "      <td>The App &amp; Service</td>\n",
       "      <td>0</td>\n",
       "      <td>0</td>\n",
       "    </tr>\n",
       "    <tr>\n",
       "      <th>...</th>\n",
       "      <td>...</td>\n",
       "      <td>...</td>\n",
       "      <td>...</td>\n",
       "    </tr>\n",
       "    <tr>\n",
       "      <th>19873</th>\n",
       "      <td>In 2012, AdBogie LLC is a mobile advertising n...</td>\n",
       "      <td>1</td>\n",
       "      <td>1</td>\n",
       "    </tr>\n",
       "    <tr>\n",
       "      <th>19874</th>\n",
       "      <td>Dan previously founded a highly successful dat...</td>\n",
       "      <td>1</td>\n",
       "      <td>1</td>\n",
       "    </tr>\n",
       "    <tr>\n",
       "      <th>19875</th>\n",
       "      <td>We offer cost-effective solutions to which an ...</td>\n",
       "      <td>1</td>\n",
       "      <td>1</td>\n",
       "    </tr>\n",
       "    <tr>\n",
       "      <th>19876</th>\n",
       "      <td>In Cuscoville, our goal is to offer the maximu...</td>\n",
       "      <td>1</td>\n",
       "      <td>1</td>\n",
       "    </tr>\n",
       "    <tr>\n",
       "      <th>19877</th>\n",
       "      <td>Anaptysh is a leading biotechnology company de...</td>\n",
       "      <td>1</td>\n",
       "      <td>1</td>\n",
       "    </tr>\n",
       "  </tbody>\n",
       "</table>\n",
       "<p>19472 rows × 3 columns</p>\n",
       "</div>"
      ],
      "text/plain": [
       "                                                    Text  Label  is_aug\n",
       "0      \"Our work environment is one in which team mem...      0       0\n",
       "1      \"I have actually been told by one of my custom...      0       0\n",
       "2      \"With our novel strength training and performa...      1       0\n",
       "3      \"Most recently, Mr. Appleby served as a Senior...      1       0\n",
       "4                                      The App & Service      0       0\n",
       "...                                                  ...    ...     ...\n",
       "19873  In 2012, AdBogie LLC is a mobile advertising n...      1       1\n",
       "19874  Dan previously founded a highly successful dat...      1       1\n",
       "19875  We offer cost-effective solutions to which an ...      1       1\n",
       "19876  In Cuscoville, our goal is to offer the maximu...      1       1\n",
       "19877  Anaptysh is a leading biotechnology company de...      1       1\n",
       "\n",
       "[19472 rows x 3 columns]"
      ]
     },
     "execution_count": 13,
     "metadata": {},
     "output_type": "execute_result"
    }
   ],
   "source": [
    "df"
   ]
  },
  {
   "cell_type": "markdown",
   "metadata": {},
   "source": [
    "### Check for duplicates"
   ]
  },
  {
   "cell_type": "code",
   "execution_count": 14,
   "metadata": {},
   "outputs": [],
   "source": [
    "df.drop_duplicates(subset=['Text'], keep='last', inplace=True)"
   ]
  },
  {
   "cell_type": "code",
   "execution_count": 15,
   "metadata": {},
   "outputs": [
    {
     "name": "stderr",
     "output_type": "stream",
     "text": [
      "100%|█████████████████████████████████████| 19471/19471 [07:56<00:00, 40.87it/s]\n"
     ]
    }
   ],
   "source": [
    "import Levenshtein\n",
    "\n",
    "max_distance_list = []\n",
    "text_list = list(df['Text'])\n",
    "\n",
    "t = tqdm(range(df.shape[0]-1), ncols=80)\n",
    "\n",
    "for a in t:\n",
    "    max_distance = float('-inf')    \n",
    "    a_text = text_list[a]    \n",
    "    for b, (b_text) in enumerate(text_list):\n",
    "        if a == b: continue\n",
    "        distance = Levenshtein.ratio(a_text, b_text)\n",
    "        if distance > max_distance: \n",
    "            max_distance = distance\n",
    "    max_distance_list.append(max_distance)\n",
    "max_distance_list.append(0.5)\n",
    "df[\"Distance\"] = max_distance_list"
   ]
  },
  {
   "cell_type": "code",
   "execution_count": 16,
   "metadata": {},
   "outputs": [
    {
     "name": "stdout",
     "output_type": "stream",
     "text": [
      "0.3852864204710672 1.4895318406513522 -0.05161384123291668\n"
     ]
    }
   ],
   "source": [
    "q1 = np.quantile(df['Distance'], 0.25)\n",
    "q3 = np.quantile(df['Distance'], 0.75)\n",
    "med = np.median(df['Distance'])\n",
    "iqr = q3-q1\n",
    "upper_bound = q3+(1.5*iqr)\n",
    "lower_bound = q1-(1.5*iqr)\n",
    "print(iqr, upper_bound, lower_bound)"
   ]
  },
  {
   "cell_type": "markdown",
   "metadata": {},
   "source": [
    "#### Removing non-unique rows"
   ]
  },
  {
   "cell_type": "code",
   "execution_count": 17,
   "metadata": {},
   "outputs": [],
   "source": [
    "if upper_bound > 1.: upper_bound = 1.\n",
    "df.drop(df[(df['Distance'] >= 1) & (df['Label'] == 1)].index, axis=0, inplace=True)\n",
    "df.drop(df[(df['Distance'] > upper_bound) & (df['Label'] == 0)].index, axis=0, inplace=True)"
   ]
  },
  {
   "cell_type": "code",
   "execution_count": 18,
   "metadata": {},
   "outputs": [
    {
     "data": {
      "text/html": [
       "<div>\n",
       "<style scoped>\n",
       "    .dataframe tbody tr th:only-of-type {\n",
       "        vertical-align: middle;\n",
       "    }\n",
       "\n",
       "    .dataframe tbody tr th {\n",
       "        vertical-align: top;\n",
       "    }\n",
       "\n",
       "    .dataframe thead th {\n",
       "        text-align: right;\n",
       "    }\n",
       "</style>\n",
       "<table border=\"1\" class=\"dataframe\">\n",
       "  <thead>\n",
       "    <tr style=\"text-align: right;\">\n",
       "      <th></th>\n",
       "      <th>Text</th>\n",
       "      <th>Label</th>\n",
       "      <th>is_aug</th>\n",
       "      <th>Distance</th>\n",
       "    </tr>\n",
       "  </thead>\n",
       "  <tbody>\n",
       "  </tbody>\n",
       "</table>\n",
       "</div>"
      ],
      "text/plain": [
       "Empty DataFrame\n",
       "Columns: [Text, Label, is_aug, Distance]\n",
       "Index: []"
      ]
     },
     "execution_count": 18,
     "metadata": {},
     "output_type": "execute_result"
    }
   ],
   "source": [
    "df[df.duplicated(subset=['Text'])]"
   ]
  },
  {
   "cell_type": "markdown",
   "metadata": {},
   "source": [
    "### Simple improving distribution and independence"
   ]
  },
  {
   "cell_type": "code",
   "execution_count": 19,
   "metadata": {},
   "outputs": [],
   "source": [
    "df['w'] = 1. - df['Distance']\n",
    "df['w'] = (df['w'] - df['w'].min()) / (df['w'].max() - df['w'].min())\n",
    "df.drop(df[df['w'] == 0.0].index, axis=0, inplace=True)"
   ]
  },
  {
   "cell_type": "code",
   "execution_count": 20,
   "metadata": {},
   "outputs": [
    {
     "data": {
      "text/html": [
       "<div>\n",
       "<style scoped>\n",
       "    .dataframe tbody tr th:only-of-type {\n",
       "        vertical-align: middle;\n",
       "    }\n",
       "\n",
       "    .dataframe tbody tr th {\n",
       "        vertical-align: top;\n",
       "    }\n",
       "\n",
       "    .dataframe thead th {\n",
       "        text-align: right;\n",
       "    }\n",
       "</style>\n",
       "<table border=\"1\" class=\"dataframe\">\n",
       "  <thead>\n",
       "    <tr style=\"text-align: right;\">\n",
       "      <th></th>\n",
       "      <th>Text</th>\n",
       "      <th>Label</th>\n",
       "      <th>is_aug</th>\n",
       "      <th>Distance</th>\n",
       "      <th>w</th>\n",
       "    </tr>\n",
       "  </thead>\n",
       "  <tbody>\n",
       "    <tr>\n",
       "      <th>0</th>\n",
       "      <td>\"Our work environment is one in which team mem...</td>\n",
       "      <td>0</td>\n",
       "      <td>0</td>\n",
       "      <td>0.500000</td>\n",
       "      <td>0.498656</td>\n",
       "    </tr>\n",
       "    <tr>\n",
       "      <th>1</th>\n",
       "      <td>\"I have actually been told by one of my custom...</td>\n",
       "      <td>0</td>\n",
       "      <td>0</td>\n",
       "      <td>0.503759</td>\n",
       "      <td>0.494886</td>\n",
       "    </tr>\n",
       "    <tr>\n",
       "      <th>2</th>\n",
       "      <td>\"With our novel strength training and performa...</td>\n",
       "      <td>1</td>\n",
       "      <td>0</td>\n",
       "      <td>0.916836</td>\n",
       "      <td>0.080700</td>\n",
       "    </tr>\n",
       "    <tr>\n",
       "      <th>3</th>\n",
       "      <td>\"Most recently, Mr. Appleby served as a Senior...</td>\n",
       "      <td>1</td>\n",
       "      <td>0</td>\n",
       "      <td>0.864865</td>\n",
       "      <td>0.132810</td>\n",
       "    </tr>\n",
       "    <tr>\n",
       "      <th>4</th>\n",
       "      <td>The App &amp; Service</td>\n",
       "      <td>0</td>\n",
       "      <td>0</td>\n",
       "      <td>0.625000</td>\n",
       "      <td>0.373320</td>\n",
       "    </tr>\n",
       "    <tr>\n",
       "      <th>...</th>\n",
       "      <td>...</td>\n",
       "      <td>...</td>\n",
       "      <td>...</td>\n",
       "      <td>...</td>\n",
       "      <td>...</td>\n",
       "    </tr>\n",
       "    <tr>\n",
       "      <th>19873</th>\n",
       "      <td>In 2012, AdBogie LLC is a mobile advertising n...</td>\n",
       "      <td>1</td>\n",
       "      <td>1</td>\n",
       "      <td>0.912281</td>\n",
       "      <td>0.085267</td>\n",
       "    </tr>\n",
       "    <tr>\n",
       "      <th>19874</th>\n",
       "      <td>Dan previously founded a highly successful dat...</td>\n",
       "      <td>1</td>\n",
       "      <td>1</td>\n",
       "      <td>0.918919</td>\n",
       "      <td>0.078611</td>\n",
       "    </tr>\n",
       "    <tr>\n",
       "      <th>19875</th>\n",
       "      <td>We offer cost-effective solutions to which an ...</td>\n",
       "      <td>1</td>\n",
       "      <td>1</td>\n",
       "      <td>0.698413</td>\n",
       "      <td>0.299710</td>\n",
       "    </tr>\n",
       "    <tr>\n",
       "      <th>19876</th>\n",
       "      <td>In Cuscoville, our goal is to offer the maximu...</td>\n",
       "      <td>1</td>\n",
       "      <td>1</td>\n",
       "      <td>0.913793</td>\n",
       "      <td>0.083750</td>\n",
       "    </tr>\n",
       "    <tr>\n",
       "      <th>19877</th>\n",
       "      <td>Anaptysh is a leading biotechnology company de...</td>\n",
       "      <td>1</td>\n",
       "      <td>1</td>\n",
       "      <td>0.500000</td>\n",
       "      <td>0.498656</td>\n",
       "    </tr>\n",
       "  </tbody>\n",
       "</table>\n",
       "<p>19470 rows × 5 columns</p>\n",
       "</div>"
      ],
      "text/plain": [
       "                                                    Text  Label  is_aug  \\\n",
       "0      \"Our work environment is one in which team mem...      0       0   \n",
       "1      \"I have actually been told by one of my custom...      0       0   \n",
       "2      \"With our novel strength training and performa...      1       0   \n",
       "3      \"Most recently, Mr. Appleby served as a Senior...      1       0   \n",
       "4                                      The App & Service      0       0   \n",
       "...                                                  ...    ...     ...   \n",
       "19873  In 2012, AdBogie LLC is a mobile advertising n...      1       1   \n",
       "19874  Dan previously founded a highly successful dat...      1       1   \n",
       "19875  We offer cost-effective solutions to which an ...      1       1   \n",
       "19876  In Cuscoville, our goal is to offer the maximu...      1       1   \n",
       "19877  Anaptysh is a leading biotechnology company de...      1       1   \n",
       "\n",
       "       Distance         w  \n",
       "0      0.500000  0.498656  \n",
       "1      0.503759  0.494886  \n",
       "2      0.916836  0.080700  \n",
       "3      0.864865  0.132810  \n",
       "4      0.625000  0.373320  \n",
       "...         ...       ...  \n",
       "19873  0.912281  0.085267  \n",
       "19874  0.918919  0.078611  \n",
       "19875  0.698413  0.299710  \n",
       "19876  0.913793  0.083750  \n",
       "19877  0.500000  0.498656  \n",
       "\n",
       "[19470 rows x 5 columns]"
      ]
     },
     "execution_count": 20,
     "metadata": {},
     "output_type": "execute_result"
    }
   ],
   "source": [
    "df"
   ]
  },
  {
   "cell_type": "code",
   "execution_count": 21,
   "metadata": {},
   "outputs": [],
   "source": [
    "X = df[['Text', 'is_aug']]\n",
    "y = df['Label']\n",
    "w = df['w'].astype('float32')"
   ]
  },
  {
   "cell_type": "code",
   "execution_count": 22,
   "metadata": {},
   "outputs": [
    {
     "data": {
      "text/plain": [
       "0    0.560555\n",
       "1    0.439445\n",
       "Name: Label, dtype: float64"
      ]
     },
     "execution_count": 22,
     "metadata": {},
     "output_type": "execute_result"
    }
   ],
   "source": [
    "df['Label'].value_counts(normalize = True)"
   ]
  },
  {
   "cell_type": "markdown",
   "metadata": {},
   "source": [
    "### Determining max_seq_len"
   ]
  },
  {
   "cell_type": "code",
   "execution_count": 23,
   "metadata": {},
   "outputs": [
    {
     "data": {
      "text/plain": [
       "<AxesSubplot:>"
      ]
     },
     "execution_count": 23,
     "metadata": {},
     "output_type": "execute_result"
    },
    {
     "data": {
      "image/png": "[encoded data removed]",
      "text/plain": [
       "<Figure size 1152x720 with 1 Axes>"
      ]
     },
     "metadata": {
      "needs_background": "light"
     },
     "output_type": "display_data"
    }
   ],
   "source": [
    "# get length of all the messages in the train set\n",
    "seq_len = [len(i.split()) for i in df['Text']]\n",
    "pd.Series(seq_len).hist(bins = 30)"
   ]
  },
  {
   "cell_type": "markdown",
   "metadata": {},
   "source": [
    "### Define Model Architecture"
   ]
  },
  {
   "cell_type": "code",
   "execution_count": 24,
   "metadata": {},
   "outputs": [
    {
     "name": "stderr",
     "output_type": "stream",
     "text": [
      "Some weights of the model checkpoint at bert-base-uncased were not used when initializing BertModel: ['cls.predictions.transform.LayerNorm.weight', 'cls.predictions.bias', 'cls.seq_relationship.weight', 'cls.predictions.transform.dense.weight', 'cls.seq_relationship.bias', 'cls.predictions.decoder.weight', 'cls.predictions.transform.dense.bias', 'cls.predictions.transform.LayerNorm.bias']\n",
      "- This IS expected if you are initializing BertModel from the checkpoint of a model trained on another task or with another architecture (e.g. initializing a BertForSequenceClassification model from a BertForPreTraining model).\n",
      "- This IS NOT expected if you are initializing BertModel from the checkpoint of a model that you expect to be exactly identical (initializing a BertForSequenceClassification model from a BertForSequenceClassification model).\n"
     ]
    }
   ],
   "source": [
    "# import BERT-base pretrained model\n",
    "bert = AutoModel.from_pretrained('bert-base-uncased')\n",
    "\n",
    "# Load the BERT tokenizer\n",
    "tokenizer = BertTokenizerFast.from_pretrained('bert-base-uncased')"
   ]
  },
  {
   "cell_type": "code",
   "execution_count": 45,
   "metadata": {},
   "outputs": [],
   "source": [
    "class About_Arch(nn.Module):\n",
    "    def __init__(self, dropout_rate=0.1, hidden_features=512):\n",
    "        super(About_Arch, self).__init__()\n",
    "\n",
    "        # Instantiate BERT model\n",
    "        self.bert = bert\n",
    "\n",
    "        # Instantiate an one-layer feed-forward classifier\n",
    "        self.classifier = nn.Sequential(\n",
    "            nn.Dropout(dropout_rate),\n",
    "            nn.Linear(768, hidden_features),\n",
    "            nn.ReLU(),\n",
    "            nn.Linear(hidden_features, 2),\n",
    "        )\n",
    "\n",
    "        self.softmax = nn.LogSoftmax(dim=1)\n",
    "        \n",
    "    def forward(self, input_ids, attention_mask):\n",
    "        # Feed input to BERT\n",
    "        outputs = self.bert(input_ids=input_ids, attention_mask=attention_mask)        \n",
    "        \n",
    "        # Extract the last hidden state of the token `[CLS]` for classification task\n",
    "        last_hidden_state_cls = outputs[0][:, 0, :]\n",
    "\n",
    "        # Feed input to classifier to compute logits\n",
    "        x = self.classifier(last_hidden_state_cls)\n",
    "        \n",
    "        x = self.softmax(x)\n",
    "\n",
    "        return x"
   ]
  },
  {
   "cell_type": "code",
   "execution_count": 46,
   "metadata": {},
   "outputs": [],
   "source": [
    "class AboutClassifier(BaseEstimator):    \n",
    "    \n",
    "    def __init__(self,\n",
    "                 epochs = 10,\n",
    "                 batch_size = 32,\n",
    "                 lr = 0.0009759263496774533,\n",
    "                 max_length = 40,\n",
    "                 dropout_rate = 0.12200844146290686, \n",
    "                 hidden_features = 512,\n",
    "                ):\n",
    "            self.epochs = epochs\n",
    "            self.batch_size = batch_size\n",
    "            self.lr = lr\n",
    "            self.max_length = max_length\n",
    "            \n",
    "            self.dropout_rate = dropout_rate\n",
    "            self.hidden_features = hidden_features\n",
    "            \n",
    "            self.device = torch.device('cuda')                    \n",
    "\n",
    "    def fit(self, X, y, sample_weight):  \n",
    "        # Tokenize and encode sequences in the training set\n",
    "        tokens_train = tokenizer.batch_encode_plus(\n",
    "            X['Text'].tolist(),\n",
    "            max_length = self.max_length,\n",
    "            padding='max_length',\n",
    "            truncation=True,\n",
    "            return_token_type_ids=False\n",
    "        )\n",
    "        \n",
    "        # Convert integer sequences to tensors\n",
    "        train_seq = torch.tensor(tokens_train['input_ids'])\n",
    "        train_mask = torch.tensor(tokens_train['attention_mask'])\n",
    "        train_y = torch.tensor(y.tolist())\n",
    "        train_w = torch.tensor(sample_weight.tolist())\n",
    "\n",
    "        # Create dataloader        \n",
    "        train_data = TensorDataset(train_seq, train_mask, train_y, train_w)\n",
    "        train_dataloader = DataLoader(train_data, sampler=ImbalancedDatasetSampler(train_data),\n",
    "                                      batch_size=self.batch_size)\n",
    "        \n",
    "        # Freeze BERT the parameters\n",
    "        for param in bert.parameters():\n",
    "            param.requires_grad = False\n",
    "\n",
    "        self.model = About_Arch(dropout_rate=self.dropout_rate, hidden_features=self.hidden_features)\n",
    "        self.model.to(self.device, non_blocking=True)\n",
    "            \n",
    "        parameters = filter(lambda p: p.requires_grad, self.model.parameters())\n",
    "        \n",
    "        optimizer = torch_optim.Adam(parameters, lr=self.lr)\n",
    "        criterion = nn.CrossEntropyLoss().to(self.device)\n",
    "        \n",
    "        self.model.train()\n",
    "\n",
    "        # Train net\n",
    "        for epoch in range(self.epochs):\n",
    "            for sent_id, mask, train_y, train_w in train_dataloader:\n",
    "                \n",
    "                sent_id = sent_id.to(self.device, non_blocking=True)\n",
    "                mask = mask.to(self.device, non_blocking=True)                \n",
    "                train_y = train_y.to(self.device, non_blocking=True)\n",
    "                train_w = train_w.to(self.device, non_blocking=True)\n",
    "                \n",
    "                optimizer.zero_grad()\n",
    "                \n",
    "                yhat = self.model(sent_id, mask)    \n",
    "                loss = criterion(yhat, train_y)\n",
    "                loss = (loss * train_w / train_w.sum()).sum()\n",
    "\n",
    "                loss.backward()\n",
    "                nn.utils.clip_grad_norm_(self.model.parameters(), 1.0) # Tanh :(\n",
    "                optimizer.step()\n",
    "        return self\n",
    "        \n",
    "    def predict_proba(self, X):\n",
    "        self.model.eval()\n",
    "        \n",
    "        batch_size = 512\n",
    "        \n",
    "        step = math.ceil(X.shape[0]/batch_size)\n",
    "        yhat_all = None\n",
    "        \n",
    "        for i in range(step):\n",
    "            # Tokenize and encode sequences in the training set\n",
    "            tokens_test = tokenizer.batch_encode_plus(\n",
    "                X['Text'][i*batch_size:i*batch_size+batch_size].tolist(),\n",
    "                max_length = self.max_length,\n",
    "                padding='max_length',\n",
    "                truncation=True,\n",
    "                return_token_type_ids=False\n",
    "            )\n",
    "\n",
    "            # Convert integer sequences to tensors\n",
    "            sent_id = torch.tensor(tokens_test['input_ids'])\n",
    "            mask = torch.tensor(tokens_test['attention_mask'])\n",
    "\n",
    "            self.model.to(self.device, non_blocking=True)\n",
    "            sent_id = sent_id.to(self.device, non_blocking=True)\n",
    "            mask = mask.to(self.device, non_blocking=True)\n",
    "\n",
    "            yhat = self.model(sent_id, mask)\n",
    "            yhat = F.softmax(yhat, dim=1)\n",
    "            yhat = torch.clamp(yhat, 0, 1)\n",
    "\n",
    "            yhat = yhat.cpu().detach().numpy()\n",
    "\n",
    "            if yhat_all is None:\n",
    "                yhat_all = yhat\n",
    "            else:\n",
    "                yhat_all = np.concatenate([yhat_all, yhat])\n",
    "\n",
    "        return yhat_all\n",
    "\n",
    "    def predict(self, X):\n",
    "        yhat = self.predict_proba(X)[:, 1]\n",
    "        return yhat.round().astype(np.int32)    "
   ]
  },
  {
   "cell_type": "markdown",
   "metadata": {},
   "source": [
    "### Outliers detection"
   ]
  },
  {
   "cell_type": "code",
   "execution_count": 27,
   "metadata": {},
   "outputs": [],
   "source": [
    "aug_mask = (X['is_aug'] == 1)"
   ]
  },
  {
   "cell_type": "code",
   "execution_count": 28,
   "metadata": {
    "scrolled": false
   },
   "outputs": [
    {
     "data": {
      "text/plain": [
       "AboutClassifier()"
      ]
     },
     "execution_count": 28,
     "metadata": {},
     "output_type": "execute_result"
    }
   ],
   "source": [
    "#Train without aug\n",
    "clf = AboutClassifier()\n",
    "clf.fit(X[~aug_mask], y[~aug_mask], w[~aug_mask])"
   ]
  },
  {
   "cell_type": "code",
   "execution_count": 29,
   "metadata": {
    "scrolled": true
   },
   "outputs": [
    {
     "name": "stdout",
     "output_type": "stream",
     "text": [
      "Outliers found: 2863\n"
     ]
    }
   ],
   "source": [
    "#Make outliers mask\n",
    "y_pred = clf.predict(X)\n",
    "\n",
    "outliers_mask = (y != y_pred)\n",
    "\n",
    "print (f'Outliers found: {outliers_mask[outliers_mask].count()}')"
   ]
  },
  {
   "cell_type": "code",
   "execution_count": 30,
   "metadata": {},
   "outputs": [
    {
     "data": {
      "text/plain": [
       "0    0.536521\n",
       "1    0.463479\n",
       "Name: Label, dtype: float64"
      ]
     },
     "execution_count": 30,
     "metadata": {},
     "output_type": "execute_result"
    }
   ],
   "source": [
    "df[~outliers_mask]['Label'].value_counts(normalize = True)"
   ]
  },
  {
   "cell_type": "markdown",
   "metadata": {},
   "source": [
    "### Rewriting cross_val_score because sklearn cross_val_score does not support weights. + outliers_mask suppor"
   ]
  },
  {
   "cell_type": "code",
   "execution_count": 31,
   "metadata": {},
   "outputs": [],
   "source": [
    "from typing import Callable\n",
    "from joblib import Parallel, delayed\n",
    "from sklearn.base import clone\n",
    "\n",
    "def cross_val_score(\n",
    "        clf, \n",
    "        X: pd.DataFrame,\n",
    "        y: pd.Series,\n",
    "        cv_gen,\n",
    "        aug_mask: np.ndarray = None,\n",
    "        outliers_mask: np.ndarray = None,\n",
    "        sample_weight_train: np.ndarray = None,\n",
    "        scoring: Callable[[np.array, np.array], float] = roc_auc_score,\n",
    "        n_jobs = -1):\n",
    "\n",
    "    # If no sample_weight then broadcast a value of 1 to all samples (full weight).\n",
    "    if sample_weight_train is None:\n",
    "        sample_weight_train = np.ones((X.shape[0],))\n",
    "\n",
    "    if aug_mask is None:\n",
    "        aug_mask = np.zeros((X.shape[0],), dtype=bool)\n",
    "\n",
    "    if outliers_mask is None:\n",
    "        outliers_mask = np.zeros((X.shape[0],), dtype=bool)\n",
    "        \n",
    "    if isinstance(cv_gen, list): cv_gen_list = cv_gen\n",
    "    else: cv_gen_list = list(cv_gen.split(X=X, y=y))      \n",
    "                        \n",
    "    def calc_fold(train, test):\n",
    "        X_train_ = X.iloc[train, :].loc[~outliers_mask.iloc[train]]\n",
    "        X_test_ = X.iloc[test, :].loc[~aug_mask.iloc[test]]\n",
    "\n",
    "        y_train_ = y.iloc[train].loc[~outliers_mask.iloc[train]]\n",
    "        y_test_ = y.iloc[test].loc[~aug_mask.iloc[test]]\n",
    "\n",
    "        w_train_ = sample_weight_train.iloc[train].loc[~outliers_mask.iloc[train]]\n",
    "\n",
    "        classifier = clone(clf)\n",
    "        fit = classifier.fit(X = X_train_, y = y_train_, sample_weight = w_train_)\n",
    "\n",
    "        if scoring == roc_auc_score:\n",
    "            prob = fit.predict_proba(X_test_)[:, 1]\n",
    "            score = scoring(y_test_, prob)\n",
    "        else:\n",
    "            pred = fit.predict(X_test_)\n",
    "            score = scoring(y_test_, pred)\n",
    "\n",
    "        return score\n",
    "        \n",
    "    # Score model on Folds\n",
    "    ret_scores = Parallel(n_jobs=n_jobs)(delayed(calc_fold)(train, test) for train, test in cv_gen_list)\n",
    "        \n",
    "    return np.array(ret_scores)"
   ]
  },
  {
   "cell_type": "markdown",
   "metadata": {},
   "source": [
    "### Search for hyperparameters, using the statistically unreliable k-fold test. (To save time)"
   ]
  },
  {
   "cell_type": "code",
   "execution_count": 32,
   "metadata": {},
   "outputs": [],
   "source": [
    "def objective(trial):\n",
    "\n",
    "    epochs = trial.suggest_int(\"epochs\", 5, 15)\n",
    "    lr = trial.suggest_float(\"lr\", 1e-5, 1e-3)\n",
    "    \n",
    "    max_length = trial.suggest_int(\"max_length\", 20, 50, 5)\n",
    "    hidden_features = trial.suggest_int(\"hidden_features\", 128, 1024, 128)\n",
    "    dropout_rate = trial.suggest_float(\"dropout_rate\", 0.0, 0.2)\n",
    "\n",
    "    clf = AboutClassifier(epochs=epochs, lr=lr, max_length=max_length, \n",
    "                          hidden_features=hidden_features, dropout_rate=dropout_rate)\n",
    "\n",
    "    cv_gen = RepeatedStratifiedKFold(n_splits=5, n_repeats=1)\n",
    "    cv_gen_list = list(cv_gen.split(X, y))\n",
    "    \n",
    "    new_score = cross_val_score(clf,\n",
    "                                X=X, y=y,\n",
    "                                cv_gen=cv_gen_list,\n",
    "                                aug_mask=aug_mask,\n",
    "                                outliers_mask=outliers_mask,\n",
    "                                sample_weight_train=w,\n",
    "                                scoring=f1_score,\n",
    "                                n_jobs=1\n",
    "                                )\n",
    "\n",
    "    return new_score.mean()"
   ]
  },
  {
   "cell_type": "code",
   "execution_count": 50,
   "metadata": {
    "scrolled": true
   },
   "outputs": [
    {
     "name": "stderr",
     "output_type": "stream",
     "text": [
      "[I 2021-08-23 01:32:37,985] A new study created in memory with name: no-name-d067dd0e-8dd4-4cc3-959a-5a3cf595bf0e\n",
      "/usr/local/lib/python3.7/dist-packages/optuna/progress_bar.py:46: ExperimentalWarning: Progress bar is experimental (supported from v1.2.0). The interface can change in the future.\n",
      "  self._init_valid()\n"
     ]
    },
    {
     "data": {
      "application/vnd.jupyter.widget-view+json": {
       "model_id": "4c84b1b762524a8e94cdf94f5c36357c",
       "version_major": 2,
       "version_minor": 0
      },
      "text/plain": [
       "  0%|          | 0/50 [00:00<?, ?it/s]"
      ]
     },
     "metadata": {},
     "output_type": "display_data"
    },
    {
     "name": "stdout",
     "output_type": "stream",
     "text": [
      "[I 2021-08-23 01:47:19,745] Trial 0 finished with value: 0.5507677246116283 and parameters: {'epochs': 13, 'lr': 0.0009959726694535962, 'max_length': 35, 'hidden_features': 128, 'dropout_rate': 0.010857961442085486}. Best is trial 0 with value: 0.5507677246116283.\n",
      "[I 2021-08-23 01:55:41,959] Trial 1 finished with value: 0.5059538847620154 and parameters: {'epochs': 6, 'lr': 4.5037151969729385e-05, 'max_length': 40, 'hidden_features': 640, 'dropout_rate': 0.0017668178447644456}. Best is trial 0 with value: 0.5507677246116283.\n",
      "[I 2021-08-23 02:16:16,744] Trial 2 finished with value: 0.5562595901349643 and parameters: {'epochs': 15, 'lr': 0.00045154254155625794, 'max_length': 40, 'hidden_features': 256, 'dropout_rate': 0.03351596973090665}. Best is trial 2 with value: 0.5562595901349643.\n",
      "[I 2021-08-23 02:25:39,530] Trial 3 finished with value: 0.5295181884495583 and parameters: {'epochs': 12, 'lr': 0.00042739706211148624, 'max_length': 20, 'hidden_features': 1024, 'dropout_rate': 0.11003884005627602}. Best is trial 2 with value: 0.5562595901349643.\n",
      "[I 2021-08-23 02:33:49,511] Trial 4 finished with value: 0.5267128971852392 and parameters: {'epochs': 9, 'lr': 0.0004685718367484344, 'max_length': 25, 'hidden_features': 768, 'dropout_rate': 0.17306375162097495}. Best is trial 2 with value: 0.5562595901349643.\n",
      "[I 2021-08-23 02:44:42,378] Trial 5 finished with value: 0.5069941630908916 and parameters: {'epochs': 14, 'lr': 0.0003955175198538913, 'max_length': 20, 'hidden_features': 256, 'dropout_rate': 0.15550516673381173}. Best is trial 2 with value: 0.5562595901349643.\n",
      "[I 2021-08-23 02:52:43,479] Trial 6 finished with value: 0.5131303842824713 and parameters: {'epochs': 7, 'lr': 0.00025766969384945264, 'max_length': 35, 'hidden_features': 640, 'dropout_rate': 0.06483209446520506}. Best is trial 2 with value: 0.5562595901349643.\n",
      "[I 2021-08-23 03:03:33,567] Trial 7 finished with value: 0.534743598398373 and parameters: {'epochs': 12, 'lr': 0.0005564575857271066, 'max_length': 25, 'hidden_features': 896, 'dropout_rate': 0.08769380234849118}. Best is trial 2 with value: 0.5562595901349643.\n",
      "[I 2021-08-23 03:11:21,957] Trial 8 finished with value: 0.5320335168737034 and parameters: {'epochs': 10, 'lr': 0.0009920353679332484, 'max_length': 20, 'hidden_features': 256, 'dropout_rate': 0.03885008180228973}. Best is trial 2 with value: 0.5562595901349643.\n",
      "[I 2021-08-23 03:27:11,058] Trial 9 finished with value: 0.5065738324788703 and parameters: {'epochs': 14, 'lr': 4.944943956799719e-05, 'max_length': 35, 'hidden_features': 384, 'dropout_rate': 0.14584859461636263}. Best is trial 2 with value: 0.5562595901349643.\n",
      "[I 2021-08-23 03:51:35,940] Trial 10 finished with value: 0.5622499997226623 and parameters: {'epochs': 15, 'lr': 0.0007506874704218864, 'max_length': 50, 'hidden_features': 384, 'dropout_rate': 0.039083858721966375}. Best is trial 10 with value: 0.5622499997226623.\n",
      "[I 2021-08-23 04:16:02,283] Trial 11 finished with value: 0.5553217096300997 and parameters: {'epochs': 15, 'lr': 0.0007474193797886579, 'max_length': 50, 'hidden_features': 384, 'dropout_rate': 0.037809648977338926}. Best is trial 10 with value: 0.5622499997226623.\n",
      "[I 2021-08-23 04:40:27,736] Trial 12 finished with value: 0.5504350544511006 and parameters: {'epochs': 15, 'lr': 0.0008152748998349131, 'max_length': 50, 'hidden_features': 384, 'dropout_rate': 0.040460139277825054}. Best is trial 10 with value: 0.5622499997226623.\n",
      "[I 2021-08-23 05:03:04,405] Trial 13 finished with value: 0.5364174058877647 and parameters: {'epochs': 15, 'lr': 0.000671860800823717, 'max_length': 45, 'hidden_features': 512, 'dropout_rate': 0.004171143986222169}. Best is trial 10 with value: 0.5622499997226623.\n",
      "[I 2021-08-23 05:19:43,190] Trial 14 finished with value: 0.5324158954990906 and parameters: {'epochs': 11, 'lr': 0.00024467520882710846, 'max_length': 45, 'hidden_features': 128, 'dropout_rate': 0.07609327662379473}. Best is trial 10 with value: 0.5622499997226623.\n",
      "[I 2021-08-23 05:31:55,695] Trial 15 finished with value: 0.5382633034136141 and parameters: {'epochs': 8, 'lr': 0.0008739075359841189, 'max_length': 45, 'hidden_features': 256, 'dropout_rate': 0.11210091936372085}. Best is trial 10 with value: 0.5622499997226623.\n",
      "[I 2021-08-23 05:49:47,770] Trial 16 finished with value: 0.5444907248433484 and parameters: {'epochs': 13, 'lr': 0.0005776655224887517, 'max_length': 40, 'hidden_features': 512, 'dropout_rate': 0.05730676897384669}. Best is trial 10 with value: 0.5622499997226623.\n",
      "[I 2021-08-23 06:12:36,305] Trial 17 finished with value: 0.5614375986649589 and parameters: {'epochs': 14, 'lr': 0.0006575446242009792, 'max_length': 50, 'hidden_features': 128, 'dropout_rate': 0.03064850005043514}. Best is trial 10 with value: 0.5622499997226623.\n",
      "[I 2021-08-23 06:33:48,051] Trial 18 finished with value: 0.5350553973833929 and parameters: {'epochs': 13, 'lr': 0.0006935681197056978, 'max_length': 50, 'hidden_features': 128, 'dropout_rate': 0.01534221882579086}. Best is trial 10 with value: 0.5622499997226623.\n",
      "[I 2021-08-23 06:51:47,182] Trial 19 finished with value: 0.5481739603429244 and parameters: {'epochs': 11, 'lr': 0.000889862237222341, 'max_length': 50, 'hidden_features': 384, 'dropout_rate': 0.05881633933285695}. Best is trial 10 with value: 0.5622499997226623.\n",
      "[I 2021-08-23 07:12:52,442] Trial 20 finished with value: 0.5559558402816418 and parameters: {'epochs': 14, 'lr': 0.0006565603156186599, 'max_length': 45, 'hidden_features': 128, 'dropout_rate': 0.02338395252558288}. Best is trial 10 with value: 0.5622499997226623.\n",
      "[I 2021-08-23 07:33:26,704] Trial 21 finished with value: 0.523243540262046 and parameters: {'epochs': 15, 'lr': 0.000361516799015392, 'max_length': 40, 'hidden_features': 256, 'dropout_rate': 0.02889871206906408}. Best is trial 10 with value: 0.5622499997226623.\n",
      "[I 2021-08-23 07:48:58,210] Trial 22 finished with value: 0.5697382890885205 and parameters: {'epochs': 15, 'lr': 0.0005635251197947561, 'max_length': 30, 'hidden_features': 256, 'dropout_rate': 0.052866853804976924}. Best is trial 22 with value: 0.5697382890885205.\n",
      "[I 2021-08-23 08:03:28,297] Trial 23 finished with value: 0.5416756488896274 and parameters: {'epochs': 14, 'lr': 0.0005903640712179038, 'max_length': 30, 'hidden_features': 512, 'dropout_rate': 0.08835051646385507}. Best is trial 22 with value: 0.5697382890885205.\n",
      "[I 2021-08-23 08:15:55,835] Trial 24 finished with value: 0.5483536258727059 and parameters: {'epochs': 12, 'lr': 0.0007860604078732564, 'max_length': 30, 'hidden_features': 384, 'dropout_rate': 0.047898786205049976}. Best is trial 22 with value: 0.5697382890885205.\n",
      "[I 2021-08-23 08:30:25,114] Trial 25 finished with value: 0.5463465282214875 and parameters: {'epochs': 14, 'lr': 0.0005393923737114176, 'max_length': 30, 'hidden_features': 128, 'dropout_rate': 0.0739314905250229}. Best is trial 22 with value: 0.5697382890885205.\n",
      "[I 2021-08-23 08:42:06,714] Trial 26 finished with value: 0.5438660386556796 and parameters: {'epochs': 13, 'lr': 0.0006225952969785541, 'max_length': 25, 'hidden_features': 256, 'dropout_rate': 0.049586100616218716}. Best is trial 22 with value: 0.5697382890885205.\n",
      "[I 2021-08-23 08:57:38,389] Trial 27 finished with value: 0.548101278659497 and parameters: {'epochs': 15, 'lr': 0.0007374137760887286, 'max_length': 30, 'hidden_features': 384, 'dropout_rate': 0.020408643693554454}. Best is trial 22 with value: 0.5697382890885205.\n",
      "[I 2021-08-23 09:15:36,836] Trial 28 finished with value: 0.5479754927340476 and parameters: {'epochs': 11, 'lr': 0.0008965458277330057, 'max_length': 50, 'hidden_features': 512, 'dropout_rate': 0.0002806306028935966}. Best is trial 22 with value: 0.5697382890885205.\n",
      "[I 2021-08-23 09:30:18,314] Trial 29 finished with value: 0.5461655193344782 and parameters: {'epochs': 13, 'lr': 0.0009693643070392727, 'max_length': 35, 'hidden_features': 128, 'dropout_rate': 0.015409913151625182}. Best is trial 22 with value: 0.5697382890885205.\n"
     ]
    },
    {
     "name": "stdout",
     "output_type": "stream",
     "text": [
      "[I 2021-08-23 09:51:30,905] Trial 30 finished with value: 0.5370225080122589 and parameters: {'epochs': 14, 'lr': 0.0005035496055954715, 'max_length': 45, 'hidden_features': 256, 'dropout_rate': 0.09704194039162212}. Best is trial 22 with value: 0.5697382890885205.\n",
      "[I 2021-08-23 10:12:05,932] Trial 31 finished with value: 0.5257125115779613 and parameters: {'epochs': 15, 'lr': 0.0003025618653353282, 'max_length': 40, 'hidden_features': 256, 'dropout_rate': 0.032185925105536625}. Best is trial 22 with value: 0.5697382890885205.\n",
      "[I 2021-08-23 10:29:01,381] Trial 32 finished with value: 0.539220647675176 and parameters: {'epochs': 15, 'lr': 0.0005012262199993718, 'max_length': 35, 'hidden_features': 128, 'dropout_rate': 0.06991291111255704}. Best is trial 22 with value: 0.5697382890885205.\n",
      "[I 2021-08-23 10:36:02,147] Trial 33 finished with value: 0.5000250651846818 and parameters: {'epochs': 5, 'lr': 0.00015006356190988074, 'max_length': 40, 'hidden_features': 256, 'dropout_rate': 0.05065560457727562}. Best is trial 22 with value: 0.5697382890885205.\n",
      "[I 2021-08-23 10:49:30,884] Trial 34 finished with value: 0.5540690814938374 and parameters: {'epochs': 13, 'lr': 0.00045325316192519594, 'max_length': 30, 'hidden_features': 640, 'dropout_rate': 0.00026026064605182836}. Best is trial 22 with value: 0.5697382890885205.\n",
      "[I 2021-08-23 11:02:05,328] Trial 35 finished with value: 0.5489567925112847 and parameters: {'epochs': 14, 'lr': 0.00037574798937791527, 'max_length': 25, 'hidden_features': 128, 'dropout_rate': 0.007949472063017764}. Best is trial 22 with value: 0.5697382890885205.\n",
      "[I 2021-08-23 11:24:47,684] Trial 36 finished with value: 0.5558080616512268 and parameters: {'epochs': 15, 'lr': 0.0006461536187415053, 'max_length': 45, 'hidden_features': 384, 'dropout_rate': 0.027031911062950192}. Best is trial 22 with value: 0.5697382890885205.\n",
      "[I 2021-08-23 11:47:36,702] Trial 37 finished with value: 0.5459742957228084 and parameters: {'epochs': 14, 'lr': 0.000738141866035055, 'max_length': 50, 'hidden_features': 256, 'dropout_rate': 0.12418584554500578}. Best is trial 22 with value: 0.5697382890885205.\n",
      "[I 2021-08-23 12:01:13,649] Trial 38 finished with value: 0.5422292456033271 and parameters: {'epochs': 12, 'lr': 0.0004160924444846781, 'max_length': 35, 'hidden_features': 768, 'dropout_rate': 0.04589719681815677}. Best is trial 22 with value: 0.5697382890885205.\n",
      "[I 2021-08-23 12:09:22,309] Trial 39 finished with value: 0.5353874123387172 and parameters: {'epochs': 9, 'lr': 0.0008263382018623949, 'max_length': 25, 'hidden_features': 384, 'dropout_rate': 0.062086413249661965}. Best is trial 22 with value: 0.5697382890885205.\n",
      "[I 2021-08-23 12:29:56,518] Trial 40 finished with value: 0.5472567979955024 and parameters: {'epochs': 15, 'lr': 0.0005324346755419755, 'max_length': 40, 'hidden_features': 256, 'dropout_rate': 0.08497896422238639}. Best is trial 22 with value: 0.5697382890885205.\n",
      "[I 2021-08-23 12:51:05,056] Trial 41 finished with value: 0.5413033268522405 and parameters: {'epochs': 14, 'lr': 0.0006202356984241715, 'max_length': 45, 'hidden_features': 128, 'dropout_rate': 0.022219816406516553}. Best is trial 22 with value: 0.5697382890885205.\n",
      "[I 2021-08-23 13:12:14,589] Trial 42 finished with value: 0.5332190462494651 and parameters: {'epochs': 14, 'lr': 0.0006960299092576723, 'max_length': 45, 'hidden_features': 128, 'dropout_rate': 0.1941068832525543}. Best is trial 22 with value: 0.5697382890885205.\n",
      "[I 2021-08-23 13:33:26,902] Trial 43 finished with value: 0.5619293901509513 and parameters: {'epochs': 13, 'lr': 0.0006633146796366323, 'max_length': 50, 'hidden_features': 256, 'dropout_rate': 0.033596409142127304}. Best is trial 22 with value: 0.5697382890885205.\n",
      "[I 2021-08-23 13:53:03,327] Trial 44 finished with value: 0.5334320487459843 and parameters: {'epochs': 12, 'lr': 0.0004722638739842823, 'max_length': 50, 'hidden_features': 256, 'dropout_rate': 0.00983366260837671}. Best is trial 22 with value: 0.5697382890885205.\n",
      "[I 2021-08-23 14:14:16,004] Trial 45 finished with value: 0.5582571903122684 and parameters: {'epochs': 13, 'lr': 0.000584762445821072, 'max_length': 50, 'hidden_features': 384, 'dropout_rate': 0.03730279825474158}. Best is trial 22 with value: 0.5697382890885205.\n",
      "[I 2021-08-23 14:35:28,529] Trial 46 finished with value: 0.539491898424546 and parameters: {'epochs': 13, 'lr': 0.000605129579949121, 'max_length': 50, 'hidden_features': 384, 'dropout_rate': 0.036958158867528526}. Best is trial 22 with value: 0.5697382890885205.\n",
      "[I 2021-08-23 14:55:04,875] Trial 47 finished with value: 0.5357568733608329 and parameters: {'epochs': 12, 'lr': 0.0007777493371715999, 'max_length': 50, 'hidden_features': 512, 'dropout_rate': 0.04186308248090993}. Best is trial 22 with value: 0.5697382890885205.\n",
      "[I 2021-08-23 15:11:27,475] Trial 48 finished with value: 0.5451154665760309 and parameters: {'epochs': 10, 'lr': 0.0007111863662427663, 'max_length': 50, 'hidden_features': 640, 'dropout_rate': 0.05680103052257249}. Best is trial 22 with value: 0.5697382890885205.\n",
      "[I 2021-08-23 15:32:41,611] Trial 49 finished with value: 0.5518678674632226 and parameters: {'epochs': 13, 'lr': 0.0005596343574375325, 'max_length': 50, 'hidden_features': 1024, 'dropout_rate': 0.06768483602840486}. Best is trial 22 with value: 0.5697382890885205.\n",
      "Best score 0.5697382890885205\n",
      "Best params {'epochs': 15, 'lr': 0.0005635251197947561, 'max_length': 30, 'hidden_features': 256, 'dropout_rate': 0.052866853804976924}\n"
     ]
    }
   ],
   "source": [
    "study = optuna.create_study(sampler=TPESampler(), direction=\"maximize\")\n",
    "study.optimize(objective, n_trials=50, show_progress_bar=True)\n",
    "print (\"Best score\", study.best_value)\n",
    "print (\"Best params\", study.best_params)"
   ]
  },
  {
   "cell_type": "code",
   "execution_count": null,
   "metadata": {},
   "outputs": [],
   "source": [
    "# Best score 0.5697382890885205\n",
    "# Best params {'epochs': 15, 'lr': 0.0005635251197947561, 'max_length': 30, 'hidden_features': 256, 'dropout_rate': 0.052866853804976924}"
   ]
  },
  {
   "cell_type": "markdown",
   "metadata": {},
   "source": [
    "### Test on test data"
   ]
  },
  {
   "cell_type": "code",
   "execution_count": 51,
   "metadata": {},
   "outputs": [],
   "source": [
    "clf = AboutClassifier(epochs=study.best_params['epochs'], lr=study.best_params['lr'], \n",
    "                      max_length=study.best_params['max_length'], \n",
    "                      hidden_features=study.best_params['hidden_features'], \n",
    "                      dropout_rate=study.best_params['dropout_rate'])"
   ]
  },
  {
   "cell_type": "code",
   "execution_count": 52,
   "metadata": {},
   "outputs": [
    {
     "name": "stdout",
     "output_type": "stream",
     "text": [
      "CPU times: user 3min 18s, sys: 33.4 s, total: 3min 51s\n",
      "Wall time: 3min 50s\n"
     ]
    },
    {
     "data": {
      "text/plain": [
       "AboutClassifier(dropout_rate=0.052866853804976924, epochs=15,\n",
       "                hidden_features=256, lr=0.0005635251197947561, max_length=30)"
      ]
     },
     "execution_count": 52,
     "metadata": {},
     "output_type": "execute_result"
    }
   ],
   "source": [
    "%%time\n",
    "clf.fit(X[~outliers_mask], y[~outliers_mask], w[~outliers_mask])"
   ]
  },
  {
   "cell_type": "code",
   "execution_count": 53,
   "metadata": {
    "scrolled": false
   },
   "outputs": [
    {
     "name": "stdout",
     "output_type": "stream",
     "text": [
      "              precision    recall  f1-score   support\n",
      "\n",
      "           0       0.98      0.82      0.89      2729\n",
      "           1       0.40      0.89      0.55       374\n",
      "\n",
      "    accuracy                           0.83      3103\n",
      "   macro avg       0.69      0.85      0.72      3103\n",
      "weighted avg       0.91      0.83      0.85      3103\n",
      "\n",
      "Confusion Matrix\n",
      "[[2229  500]\n",
      " [  42  332]]\n",
      "\n",
      "Roc auc score\n",
      "0.8522416195233216\n",
      "\n",
      "Target score\n",
      "0.550580431177446\n"
     ]
    },
    {
     "data": {
      "image/png": "[encoded data removed]",
      "text/plain": [
       "<Figure size 1152x720 with 1 Axes>"
      ]
     },
     "metadata": {
      "needs_background": "light"
     },
     "output_type": "display_data"
    }
   ],
   "source": [
    "y_pred_rf = clf.predict_proba(X_test)[:, 1]\n",
    "y_pred = clf.predict(X_test)\n",
    "fpr_rf, tpr_rf, _ = roc_curve(y_test, y_pred_rf)\n",
    "print(classification_report(y_test, y_pred))\n",
    "\n",
    "print(\"Confusion Matrix\")\n",
    "print(confusion_matrix(y_test, y_pred))\n",
    "\n",
    "print('')\n",
    "print(\"Roc auc score\")\n",
    "print(roc_auc_score(y_test, y_pred))\n",
    "\n",
    "print('')\n",
    "print(\"Target score\")\n",
    "print(f1_score(y_test, y_pred))\n",
    "\n",
    "\n",
    "plt.figure(1)\n",
    "plt.plot([0, 1], [0, 1], 'k--')\n",
    "plt.plot(fpr_rf, tpr_rf, label='RF')\n",
    "plt.xlabel('False positive rate')\n",
    "plt.ylabel('True positive rate')\n",
    "plt.title('ROC curve')\n",
    "plt.legend(loc='best')\n",
    "plt.show()"
   ]
  },
  {
   "cell_type": "code",
   "execution_count": null,
   "metadata": {},
   "outputs": [],
   "source": []
  }
 ],
 "metadata": {
  "kernelspec": {
   "display_name": "Python 3",
   "language": "python",
   "name": "python3"
  },
  "language_info": {
   "codemirror_mode": {
    "name": "ipython",
    "version": 3
   },
   "file_extension": ".py",
   "mimetype": "text/x-python",
   "name": "python",
   "nbconvert_exporter": "python",
   "pygments_lexer": "ipython3",
   "version": "3.7.9"
  }
 },
 "nbformat": 4,
 "nbformat_minor": 1
}
