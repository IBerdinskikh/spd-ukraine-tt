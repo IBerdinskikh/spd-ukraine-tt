{
 "cells": [
  {
   "cell_type": "markdown",
   "metadata": {},
   "source": [
    "# 02 Fine Tuning BERT"
   ]
  },
  {
   "cell_type": "code",
   "execution_count": 86,
   "metadata": {},
   "outputs": [],
   "source": [
    "import pandas as pd\n",
    "import numpy as np\n",
    "import matplotlib.pyplot as plt\n",
    "%matplotlib inline\n",
    "plt.rcParams['figure.figsize'] = (16, 10)\n",
    "from IPython.display import Image\n",
    "\n",
    "import optuna\n",
    "from optuna.samplers import TPESampler\n",
    "from sklearn.model_selection import RepeatedStratifiedKFold\n",
    "from sklearn.base import BaseEstimator\n",
    "\n",
    "import re\n",
    "from sklearn.model_selection import train_test_split\n",
    "from sklearn.metrics import roc_curve, classification_report, confusion_matrix, roc_auc_score, f1_score\n",
    "\n",
    "from transformers import BertForSequenceClassification, BertTokenizerFast\n",
    "\n",
    "import torch\n",
    "import torch.nn as nn\n",
    "import torch.nn.functional as F\n",
    "import torch.optim as torch_optim\n",
    "from torch.utils.data import TensorDataset, DataLoader, RandomSampler, SequentialSampler\n",
    "from imbalanced import ImbalancedDatasetSampler"
   ]
  },
  {
   "cell_type": "markdown",
   "metadata": {},
   "source": [
    "### Load Dataset"
   ]
  },
  {
   "cell_type": "code",
   "execution_count": 2,
   "metadata": {},
   "outputs": [],
   "source": [
    "regex_str = re.compile(r\"(.+?),(About|None),(article_.+?),(.*)\") \n",
    "\n",
    "df_row_list = []\n",
    "f_in = open ('dataset/aboutlabeled.csv', 'r')\n",
    "for i, line in enumerate(f_in):\n",
    "    if i > 0:\n",
    "        r_match = re.match(regex_str, line)\n",
    "        df_row = [r_match[1], r_match[2], r_match[3], r_match[4]]\n",
    "        df_row_list.append(df_row)\n",
    "f_in.close()      \n",
    "\n",
    "df = pd.DataFrame(df_row_list)\n",
    "df.columns = ['Text', 'Label', 'ID', 'Offsets']"
   ]
  },
  {
   "cell_type": "markdown",
   "metadata": {},
   "source": [
    "### Encode y"
   ]
  },
  {
   "cell_type": "code",
   "execution_count": 3,
   "metadata": {},
   "outputs": [],
   "source": [
    "df.loc[df['Label'] == 'None', 'Label'] = 0\n",
    "df.loc[df['Label'] == 'About', 'Label'] = 1\n",
    "df['Label'] = df['Label'].astype(int)"
   ]
  },
  {
   "cell_type": "markdown",
   "metadata": {},
   "source": [
    "### Drop uninformative columns. I don't go deep into \"Offsets\", because DL model will do it."
   ]
  },
  {
   "cell_type": "code",
   "execution_count": 4,
   "metadata": {},
   "outputs": [],
   "source": [
    "df.drop(['ID', 'Offsets'], axis=1, inplace=True)\n",
    "df.dropna(inplace=True)"
   ]
  },
  {
   "cell_type": "code",
   "execution_count": 5,
   "metadata": {},
   "outputs": [
    {
     "name": "stdout",
     "output_type": "stream",
     "text": [
      "<class 'pandas.core.frame.DataFrame'>\n",
      "Int64Index: 16721 entries, 0 to 16720\n",
      "Data columns (total 2 columns):\n",
      " #   Column  Non-Null Count  Dtype \n",
      "---  ------  --------------  ----- \n",
      " 0   Text    16721 non-null  object\n",
      " 1   Label   16721 non-null  int64 \n",
      "dtypes: int64(1), object(1)\n",
      "memory usage: 391.9+ KB\n"
     ]
    }
   ],
   "source": [
    "df.info()"
   ]
  },
  {
   "cell_type": "code",
   "execution_count": 6,
   "metadata": {},
   "outputs": [
    {
     "data": {
      "text/plain": [
       "0    0.887567\n",
       "1    0.112433\n",
       "Name: Label, dtype: float64"
      ]
     },
     "execution_count": 6,
     "metadata": {},
     "output_type": "execute_result"
    }
   ],
   "source": [
    "# check class distribution\n",
    "df['Label'].value_counts(normalize = True)"
   ]
  },
  {
   "cell_type": "markdown",
   "metadata": {},
   "source": [
    "### We do not touch the test samples."
   ]
  },
  {
   "cell_type": "code",
   "execution_count": 7,
   "metadata": {},
   "outputs": [],
   "source": [
    "X_train, X_test, y_train, y_test = train_test_split(df, df['Label'], test_size=0.2, stratify=df['Label'])"
   ]
  },
  {
   "cell_type": "code",
   "execution_count": 8,
   "metadata": {},
   "outputs": [],
   "source": [
    "df = X_train.copy()"
   ]
  },
  {
   "cell_type": "markdown",
   "metadata": {},
   "source": [
    "### Simple check for duplicates"
   ]
  },
  {
   "cell_type": "code",
   "execution_count": 9,
   "metadata": {},
   "outputs": [
    {
     "name": "stderr",
     "output_type": "stream",
     "text": [
      "100%|█████████████████████████████████████| 13376/13376 [09:46<00:00, 22.80it/s]\n"
     ]
    }
   ],
   "source": [
    "import Levenshtein\n",
    "from tqdm import tqdm\n",
    "\n",
    "max_distance_list = []\n",
    "b_list = list(df['Text'])\n",
    "t = tqdm(enumerate(df.iterrows()), total = len(df), ncols=80)\n",
    "for index, (_, row) in t:\n",
    "    max_distance = float('-inf')\n",
    "    for b_index, b_text in enumerate(b_list):\n",
    "        if b_index == index: continue\n",
    "        distance = Levenshtein.ratio(row['Text'], b_text)\n",
    "        if distance > max_distance: \n",
    "            max_distance = distance\n",
    "    max_distance_list.append(max_distance)\n",
    "    \n",
    "df[\"Distance\"] = max_distance_list"
   ]
  },
  {
   "cell_type": "code",
   "execution_count": 10,
   "metadata": {},
   "outputs": [
    {
     "name": "stdout",
     "output_type": "stream",
     "text": [
      "0.11861365836988091 0.7965341459247023 0.32207951244517863\n"
     ]
    }
   ],
   "source": [
    "q1 = np.quantile(df['Distance'], 0.25)\n",
    "q3 = np.quantile(df['Distance'], 0.75)\n",
    "med = np.median(df['Distance'])\n",
    "iqr = q3-q1\n",
    "upper_bound = q3+(1.5*iqr)\n",
    "lower_bound = q1-(1.5*iqr)\n",
    "print(iqr, upper_bound, lower_bound)"
   ]
  },
  {
   "cell_type": "markdown",
   "metadata": {},
   "source": [
    "#### Removing non-unique rows"
   ]
  },
  {
   "cell_type": "code",
   "execution_count": 11,
   "metadata": {},
   "outputs": [],
   "source": [
    "df.drop(df[(df['Distance'] >= 1) & (df['Label'] == 1)].index, axis=0, inplace=True)\n",
    "df.drop(df[(df['Distance'] > upper_bound) & (df['Label'] == 0)].index, axis=0, inplace=True)"
   ]
  },
  {
   "cell_type": "code",
   "execution_count": 12,
   "metadata": {},
   "outputs": [
    {
     "data": {
      "text/html": [
       "<div>\n",
       "<style scoped>\n",
       "    .dataframe tbody tr th:only-of-type {\n",
       "        vertical-align: middle;\n",
       "    }\n",
       "\n",
       "    .dataframe tbody tr th {\n",
       "        vertical-align: top;\n",
       "    }\n",
       "\n",
       "    .dataframe thead th {\n",
       "        text-align: right;\n",
       "    }\n",
       "</style>\n",
       "<table border=\"1\" class=\"dataframe\">\n",
       "  <thead>\n",
       "    <tr style=\"text-align: right;\">\n",
       "      <th></th>\n",
       "      <th>Text</th>\n",
       "      <th>Label</th>\n",
       "      <th>Distance</th>\n",
       "    </tr>\n",
       "  </thead>\n",
       "  <tbody>\n",
       "  </tbody>\n",
       "</table>\n",
       "</div>"
      ],
      "text/plain": [
       "Empty DataFrame\n",
       "Columns: [Text, Label, Distance]\n",
       "Index: []"
      ]
     },
     "execution_count": 12,
     "metadata": {},
     "output_type": "execute_result"
    }
   ],
   "source": [
    "df[df.duplicated(subset=['Text'])]"
   ]
  },
  {
   "cell_type": "markdown",
   "metadata": {},
   "source": [
    "### Simple improving distribution and independence"
   ]
  },
  {
   "cell_type": "code",
   "execution_count": 13,
   "metadata": {},
   "outputs": [],
   "source": [
    "df['w'] = 1. - df['Distance']\n",
    "df['w'] = (df['w'] - df['w'].min()) / (df['w'].max() - df['w'].min())"
   ]
  },
  {
   "cell_type": "code",
   "execution_count": 14,
   "metadata": {},
   "outputs": [
    {
     "data": {
      "text/html": [
       "<div>\n",
       "<style scoped>\n",
       "    .dataframe tbody tr th:only-of-type {\n",
       "        vertical-align: middle;\n",
       "    }\n",
       "\n",
       "    .dataframe tbody tr th {\n",
       "        vertical-align: top;\n",
       "    }\n",
       "\n",
       "    .dataframe thead th {\n",
       "        text-align: right;\n",
       "    }\n",
       "</style>\n",
       "<table border=\"1\" class=\"dataframe\">\n",
       "  <thead>\n",
       "    <tr style=\"text-align: right;\">\n",
       "      <th></th>\n",
       "      <th>Text</th>\n",
       "      <th>Label</th>\n",
       "      <th>Distance</th>\n",
       "      <th>w</th>\n",
       "    </tr>\n",
       "  </thead>\n",
       "  <tbody>\n",
       "    <tr>\n",
       "      <th>13704</th>\n",
       "      <td>\"For more than 30 years, the Jernigan name has...</td>\n",
       "      <td>1</td>\n",
       "      <td>0.568306</td>\n",
       "      <td>0.380030</td>\n",
       "    </tr>\n",
       "    <tr>\n",
       "      <th>9022</th>\n",
       "      <td>VinSense is an Indiana LLC formed in March 201...</td>\n",
       "      <td>1</td>\n",
       "      <td>0.505837</td>\n",
       "      <td>0.448178</td>\n",
       "    </tr>\n",
       "    <tr>\n",
       "      <th>5635</th>\n",
       "      <td>\"His recent work at the University of Cambridg...</td>\n",
       "      <td>0</td>\n",
       "      <td>0.475285</td>\n",
       "      <td>0.481507</td>\n",
       "    </tr>\n",
       "    <tr>\n",
       "      <th>3987</th>\n",
       "      <td>two continents... a world of opportunities!</td>\n",
       "      <td>0</td>\n",
       "      <td>0.520833</td>\n",
       "      <td>0.431818</td>\n",
       "    </tr>\n",
       "    <tr>\n",
       "      <th>6311</th>\n",
       "      <td>New KIBO Sound Record/Playback Module!</td>\n",
       "      <td>0</td>\n",
       "      <td>0.400000</td>\n",
       "      <td>0.563636</td>\n",
       "    </tr>\n",
       "    <tr>\n",
       "      <th>...</th>\n",
       "      <td>...</td>\n",
       "      <td>...</td>\n",
       "      <td>...</td>\n",
       "      <td>...</td>\n",
       "    </tr>\n",
       "    <tr>\n",
       "      <th>13422</th>\n",
       "      <td>\"Member of the Board of Managers and Chief Exe...</td>\n",
       "      <td>0</td>\n",
       "      <td>0.512821</td>\n",
       "      <td>0.440559</td>\n",
       "    </tr>\n",
       "    <tr>\n",
       "      <th>2822</th>\n",
       "      <td>Dr. Marshall earned his B.S.</td>\n",
       "      <td>0</td>\n",
       "      <td>0.586207</td>\n",
       "      <td>0.360502</td>\n",
       "    </tr>\n",
       "    <tr>\n",
       "      <th>13117</th>\n",
       "      <td>\"During his tenure as CEO, Critical Power USA ...</td>\n",
       "      <td>0</td>\n",
       "      <td>0.517857</td>\n",
       "      <td>0.435065</td>\n",
       "    </tr>\n",
       "    <tr>\n",
       "      <th>3950</th>\n",
       "      <td>\"Retired Chief Financial Officer of Sun Micros...</td>\n",
       "      <td>0</td>\n",
       "      <td>0.508834</td>\n",
       "      <td>0.444908</td>\n",
       "    </tr>\n",
       "    <tr>\n",
       "      <th>1069</th>\n",
       "      <td>\"Since 2008, over $125,000 in scholar¬ship fun...</td>\n",
       "      <td>0</td>\n",
       "      <td>0.465753</td>\n",
       "      <td>0.491905</td>\n",
       "    </tr>\n",
       "  </tbody>\n",
       "</table>\n",
       "<p>11657 rows × 4 columns</p>\n",
       "</div>"
      ],
      "text/plain": [
       "                                                    Text  Label  Distance  \\\n",
       "13704  \"For more than 30 years, the Jernigan name has...      1  0.568306   \n",
       "9022   VinSense is an Indiana LLC formed in March 201...      1  0.505837   \n",
       "5635   \"His recent work at the University of Cambridg...      0  0.475285   \n",
       "3987         two continents... a world of opportunities!      0  0.520833   \n",
       "6311              New KIBO Sound Record/Playback Module!      0  0.400000   \n",
       "...                                                  ...    ...       ...   \n",
       "13422  \"Member of the Board of Managers and Chief Exe...      0  0.512821   \n",
       "2822                        Dr. Marshall earned his B.S.      0  0.586207   \n",
       "13117  \"During his tenure as CEO, Critical Power USA ...      0  0.517857   \n",
       "3950   \"Retired Chief Financial Officer of Sun Micros...      0  0.508834   \n",
       "1069   \"Since 2008, over $125,000 in scholar¬ship fun...      0  0.465753   \n",
       "\n",
       "              w  \n",
       "13704  0.380030  \n",
       "9022   0.448178  \n",
       "5635   0.481507  \n",
       "3987   0.431818  \n",
       "6311   0.563636  \n",
       "...         ...  \n",
       "13422  0.440559  \n",
       "2822   0.360502  \n",
       "13117  0.435065  \n",
       "3950   0.444908  \n",
       "1069   0.491905  \n",
       "\n",
       "[11657 rows x 4 columns]"
      ]
     },
     "execution_count": 14,
     "metadata": {},
     "output_type": "execute_result"
    }
   ],
   "source": [
    "df"
   ]
  },
  {
   "cell_type": "code",
   "execution_count": 15,
   "metadata": {},
   "outputs": [],
   "source": [
    "X = df[['Text']]\n",
    "y = df['Label']\n",
    "w = df['w'].astype('float32')"
   ]
  },
  {
   "cell_type": "markdown",
   "metadata": {},
   "source": [
    "### Determining max_seq_len"
   ]
  },
  {
   "cell_type": "code",
   "execution_count": 16,
   "metadata": {},
   "outputs": [
    {
     "data": {
      "text/plain": [
       "<AxesSubplot:>"
      ]
     },
     "execution_count": 16,
     "metadata": {},
     "output_type": "execute_result"
    },
    {
     "data": {
      "image/png": "[encoded data removed]",
      "text/plain": [
       "<Figure size 1152x720 with 1 Axes>"
      ]
     },
     "metadata": {
      "needs_background": "light"
     },
     "output_type": "display_data"
    }
   ],
   "source": [
    "# get length of all the messages in the train set\n",
    "seq_len = [len(i.split()) for i in df['Text']]\n",
    "pd.Series(seq_len).hist(bins = 30)"
   ]
  },
  {
   "cell_type": "markdown",
   "metadata": {},
   "source": [
    "Average sequence length is 20. Posible no need to use strong deep learning algorithms."
   ]
  },
  {
   "cell_type": "markdown",
   "metadata": {},
   "source": [
    "### Define Model Architecture"
   ]
  },
  {
   "cell_type": "code",
   "execution_count": 109,
   "metadata": {},
   "outputs": [
    {
     "name": "stderr",
     "output_type": "stream",
     "text": [
      "Some weights of the model checkpoint at bert-base-uncased were not used when initializing BertModel: ['cls.predictions.bias', 'cls.predictions.transform.LayerNorm.weight', 'cls.predictions.transform.dense.weight', 'cls.predictions.transform.dense.bias', 'cls.predictions.transform.LayerNorm.bias', 'cls.predictions.decoder.weight', 'cls.seq_relationship.weight', 'cls.seq_relationship.bias']\n",
      "- This IS expected if you are initializing BertModel from the checkpoint of a model trained on another task or with another architecture (e.g. initializing a BertForSequenceClassification model from a BertForPreTraining model).\n",
      "- This IS NOT expected if you are initializing BertModel from the checkpoint of a model that you expect to be exactly identical (initializing a BertForSequenceClassification model from a BertForSequenceClassification model).\n"
     ]
    }
   ],
   "source": [
    "# import BERT-base pretrained model\n",
    "bert = AutoModel.from_pretrained('bert-base-uncased')\n",
    "\n",
    "# Load the BERT tokenizer\n",
    "tokenizer = BertTokenizerFast.from_pretrained('bert-base-uncased')"
   ]
  },
  {
   "cell_type": "code",
   "execution_count": 233,
   "metadata": {},
   "outputs": [],
   "source": [
    "class BERT_Arch(nn.Module):\n",
    "    def __init__(self, dropout_rate=0.1, hidden_features=512):\n",
    "        super(BERT_Arch, self).__init__()\n",
    "\n",
    "        # Instantiate BERT model\n",
    "        self.bert = bert\n",
    "\n",
    "        # Instantiate an one-layer feed-forward classifier\n",
    "        self.classifier = nn.Sequential(\n",
    "            nn.Dropout(dropout_rate),\n",
    "            nn.Linear(768, hidden_features),\n",
    "            nn.ReLU(),\n",
    "            nn.Linear(hidden_features, 2),\n",
    "        )\n",
    "\n",
    "        self.softmax = nn.LogSoftmax(dim=1)\n",
    "        \n",
    "    def forward(self, input_ids, attention_mask):\n",
    "        # Feed input to BERT\n",
    "        outputs = self.bert(input_ids=input_ids, attention_mask=attention_mask)        \n",
    "        \n",
    "        # Extract the last hidden state of the token `[CLS]` for classification task\n",
    "        last_hidden_state_cls = outputs[0][:, 0, :]\n",
    "\n",
    "        # Feed input to classifier to compute logits\n",
    "        x = self.classifier(last_hidden_state_cls)\n",
    "        \n",
    "        x = self.softmax(x)\n",
    "\n",
    "        return x"
   ]
  },
  {
   "cell_type": "code",
   "execution_count": 246,
   "metadata": {},
   "outputs": [],
   "source": [
    "class AboutClassifier(BaseEstimator):    \n",
    "    \n",
    "    def __init__(self,\n",
    "                 epochs = 4,\n",
    "                 batch_size = 32,\n",
    "                 lr = 1e-5,\n",
    "                 max_length = 40,\n",
    "                 dropout_rate = 0.1, \n",
    "                 hidden_features = 512,\n",
    "                ):\n",
    "            self.epochs = epochs\n",
    "            self.batch_size = batch_size\n",
    "            self.lr = lr\n",
    "            self.max_length = max_length\n",
    "            \n",
    "            self.dropout_rate = dropout_rate\n",
    "            self.hidden_features = hidden_features\n",
    "            \n",
    "            self.device = torch.device('cuda')                    \n",
    "\n",
    "    def fit(self, X, y, sample_weight):  \n",
    "        # Tokenize and encode sequences in the training set\n",
    "        tokens_train = tokenizer.batch_encode_plus(\n",
    "            X['Text'].tolist(),\n",
    "            max_length = self.max_length,\n",
    "            padding='max_length',\n",
    "            truncation=True,\n",
    "            return_token_type_ids=False\n",
    "        )\n",
    "        \n",
    "        # Convert integer sequences to tensors\n",
    "        train_seq = torch.tensor(tokens_train['input_ids'])\n",
    "        train_mask = torch.tensor(tokens_train['attention_mask'])\n",
    "        train_y = torch.tensor(y.tolist())\n",
    "        train_w = torch.tensor(sample_weight.tolist())\n",
    "\n",
    "        # Create dataloader        \n",
    "        train_data = TensorDataset(train_seq, train_mask, train_y, train_w)\n",
    "        train_dataloader = DataLoader(train_data, sampler=ImbalancedDatasetSampler(train_data),\n",
    "                                      batch_size=self.batch_size)\n",
    "        \n",
    "        # Freeze BERT the parameters\n",
    "        for param in bert.parameters():\n",
    "            param.requires_grad = False\n",
    "\n",
    "        self.model = BERT_Arch(dropout_rate=self.dropout_rate, hidden_features=self.hidden_features)\n",
    "        self.model.to(self.device, non_blocking=True)\n",
    "            \n",
    "        parameters = filter(lambda p: p.requires_grad, self.model.parameters())\n",
    "        \n",
    "        optimizer = torch_optim.Adam(parameters, lr=self.lr)\n",
    "        criterion = nn.CrossEntropyLoss().to(self.device)\n",
    "        \n",
    "        self.model.train()\n",
    "\n",
    "        # Train net\n",
    "        for epoch in range(self.epochs):\n",
    "            for sent_id, mask, train_y, train_w in train_dataloader:\n",
    "                \n",
    "                sent_id = sent_id.to(self.device, non_blocking=True)\n",
    "                mask = mask.to(self.device, non_blocking=True)                \n",
    "                train_y = train_y.to(self.device, non_blocking=True)\n",
    "                train_w = train_w.to(self.device, non_blocking=True)\n",
    "                \n",
    "                optimizer.zero_grad()\n",
    "                \n",
    "                yhat = self.model(sent_id, mask)    \n",
    "                loss = criterion(yhat, train_y)\n",
    "                loss = (loss * train_w / train_w.sum()).sum()\n",
    "\n",
    "                loss.backward()\n",
    "                nn.utils.clip_grad_norm_(self.model.parameters(), 1.0) # Tanh :(\n",
    "                optimizer.step()\n",
    "        return self\n",
    "\n",
    "        \n",
    "    def predict_proba(self, X):\n",
    "        # Tokenize and encode sequences in the training set\n",
    "        tokens_test = tokenizer.batch_encode_plus(\n",
    "            X['Text'].tolist(),\n",
    "            max_length = self.max_length,\n",
    "            padding='max_length',\n",
    "            truncation=True,\n",
    "            return_token_type_ids=False\n",
    "        )\n",
    "        \n",
    "        # Convert integer sequences to tensors\n",
    "        sent_id = torch.tensor(tokens_test['input_ids'])\n",
    "        mask = torch.tensor(tokens_test['attention_mask'])\n",
    "        \n",
    "        self.model.to(self.device, non_blocking=True)\n",
    "        sent_id = sent_id.to(self.device, non_blocking=True)\n",
    "        mask = mask.to(self.device, non_blocking=True)\n",
    "\n",
    "        self.model.eval()\n",
    "        yhat = self.model(sent_id, mask)\n",
    "        yhat = F.softmax(yhat, dim=1)\n",
    "        yhat = torch.clamp(yhat, 0, 1)\n",
    "        \n",
    "        yhat = yhat.cpu().detach().numpy()\n",
    "        return yhat\n",
    "\n",
    "    def predict(self, X):\n",
    "        yhat = self.predict_proba(X)[:, 1]\n",
    "        return yhat.round().astype(np.int32)    "
   ]
  },
  {
   "cell_type": "code",
   "execution_count": 247,
   "metadata": {
    "scrolled": false
   },
   "outputs": [
    {
     "data": {
      "text/plain": [
       "AboutClassifier()"
      ]
     },
     "execution_count": 247,
     "metadata": {},
     "output_type": "execute_result"
    }
   ],
   "source": [
    "# clf = AboutClassifier(epochs = 4)\n",
    "# clf.fit(X, y, w)"
   ]
  },
  {
   "cell_type": "code",
   "execution_count": 248,
   "metadata": {
    "scrolled": true
   },
   "outputs": [],
   "source": [
    "#       (pooler): BertPooler(\n",
    "#         (dense): Linear(in_features=768, out_features=768, bias=True)\n",
    "#         (activation): Tanh()\n",
    "#       )\n",
    "#     )\n",
    "#     (dropout): Dropout(p=0.1, inplace=False)\n",
    "#     (classifier): Linear(in_features=768, out_features=2, bias=True)\n",
    "#   )\n",
    "# )\n",
    "\n",
    "# print (clf.model)"
   ]
  },
  {
   "cell_type": "markdown",
   "metadata": {},
   "source": [
    "### Search for hyperparameters, using the statistically unreliable k-fold test. (To save time)"
   ]
  },
  {
   "cell_type": "markdown",
   "metadata": {},
   "source": [
    "#### Rewriting cross_val_score because sklearn cross_val_score does not support weights."
   ]
  },
  {
   "cell_type": "code",
   "execution_count": 81,
   "metadata": {},
   "outputs": [],
   "source": [
    "from typing import Callable\n",
    "from joblib import Parallel, delayed\n",
    "from sklearn.base import clone\n",
    "\n",
    "def cross_val_score(\n",
    "        clf, \n",
    "        X: pd.DataFrame,\n",
    "        y: pd.Series,\n",
    "        cv_gen,\n",
    "        sample_weight_train: np.ndarray = None,\n",
    "        scoring: Callable[[np.array, np.array], float] = roc_auc_score,\n",
    "        n_jobs = -1):\n",
    "\n",
    "    # If no sample_weight then broadcast a value of 1 to all samples (full weight).\n",
    "    if sample_weight_train is None:\n",
    "        sample_weight_train = np.ones((X.shape[0],))\n",
    "        \n",
    "    if isinstance(cv_gen, list): cv_gen_list = cv_gen\n",
    "    else: cv_gen_list = list(cv_gen.split(X=X, y=y))      \n",
    "                        \n",
    "    def calc_fold(train, test):\n",
    "\n",
    "        if hasattr(X, 'iloc'):                \n",
    "            X_train_ = X.iloc[train, :]\n",
    "            X_test_ = X.iloc[test, :]\n",
    "\n",
    "            y_train_ = y.iloc[train]\n",
    "            y_test_ = y.iloc[test]\n",
    "            \n",
    "            w_train_ = sample_weight_train.iloc[train]\n",
    "\n",
    "        else:\n",
    "            X_train_ = X[train, :]\n",
    "            X_test_ = X[test, :]\n",
    "\n",
    "            y_train_ = y[train]\n",
    "            y_test_ = y[test]\n",
    "            \n",
    "            w_train_ = sample_weight_train[train]\n",
    "\n",
    "        classifier = clone(clf)\n",
    "        fit = classifier.fit(X = X_train_, y = y_train_, sample_weight = w_train_)\n",
    "\n",
    "        if scoring == roc_auc_score:\n",
    "            prob = fit.predict_proba(X_test_)[:, 1]\n",
    "            score = scoring(y_test_, prob)\n",
    "        else:\n",
    "            pred = fit.predict(X_test_)\n",
    "            score = scoring(y_test_, pred)\n",
    "\n",
    "        return score\n",
    "        \n",
    "    # Score model on Folds\n",
    "    ret_scores = Parallel(n_jobs=n_jobs)(delayed(calc_fold)(train, test) for train, test in cv_gen_list)\n",
    "        \n",
    "    return np.array(ret_scores)"
   ]
  },
  {
   "cell_type": "code",
   "execution_count": 255,
   "metadata": {},
   "outputs": [],
   "source": [
    "def objective(trial):\n",
    "\n",
    "    epochs = trial.suggest_int(\"epochs\", 1, 10)\n",
    "    lr = trial.suggest_float(\"lr\", 1e-6, 1e-3)\n",
    "    \n",
    "    max_length = trial.suggest_int(\"max_length\", 20, 50, 5)\n",
    "    dropout_rate = trial.suggest_float(\"dropout_rate\", 0.0, 0.2)\n",
    "\n",
    "    clf = AboutClassifier(epochs=epochs, lr=lr, max_length=max_length, dropout_rate=dropout_rate)\n",
    "\n",
    "    cv_gen = RepeatedStratifiedKFold(n_splits=5, n_repeats=1)\n",
    "    cv_gen_list = list(cv_gen.split(X, y))\n",
    "    \n",
    "    new_score = cross_val_score(clf,\n",
    "                                X=X, y=y,\n",
    "                                cv_gen=cv_gen_list,\n",
    "                                sample_weight_train=w,\n",
    "                                scoring=f1_score,\n",
    "                                n_jobs=1\n",
    "                                )\n",
    "\n",
    "    return new_score.mean()"
   ]
  },
  {
   "cell_type": "code",
   "execution_count": 256,
   "metadata": {
    "scrolled": false
   },
   "outputs": [
    {
     "name": "stderr",
     "output_type": "stream",
     "text": [
      "[I 2021-08-21 15:09:25,040] A new study created in memory with name: no-name-7d3d1d13-aed3-4052-b896-dfa204f6e994\n",
      "/usr/local/lib/python3.7/dist-packages/optuna/progress_bar.py:46: ExperimentalWarning: Progress bar is experimental (supported from v1.2.0). The interface can change in the future.\n",
      "  self._init_valid()\n"
     ]
    },
    {
     "data": {
      "application/vnd.jupyter.widget-view+json": {
       "model_id": "8b041ad35b8f4eeab8a65e678ea51cf3",
       "version_major": 2,
       "version_minor": 0
      },
      "text/plain": [
       "  0%|          | 0/10 [00:00<?, ?it/s]"
      ]
     },
     "metadata": {},
     "output_type": "display_data"
    },
    {
     "name": "stdout",
     "output_type": "stream",
     "text": [
      "[I 2021-08-21 15:13:56,277] Trial 0 finished with value: 0.47706935741177636 and parameters: {'epochs': 8, 'lr': 0.0004217957822269575, 'max_length': 20, 'dropout_rate': 0.1646834704670723}. Best is trial 0 with value: 0.47706935741177636.\n",
      "[I 2021-08-21 15:22:28,245] Trial 1 finished with value: 0.5239223742860901 and parameters: {'epochs': 7, 'lr': 0.0003681366349305145, 'max_length': 50, 'dropout_rate': 0.03353944115392893}. Best is trial 1 with value: 0.5239223742860901.\n",
      "[I 2021-08-21 15:28:06,367] Trial 2 finished with value: 0.5182514709825254 and parameters: {'epochs': 10, 'lr': 0.0007836110796794736, 'max_length': 20, 'dropout_rate': 0.14511569916404593}. Best is trial 1 with value: 0.5239223742860901.\n",
      "[I 2021-08-21 15:30:29,999] Trial 3 finished with value: 0.48392379900885346 and parameters: {'epochs': 3, 'lr': 0.0009252696364755139, 'max_length': 30, 'dropout_rate': 0.1536113434917066}. Best is trial 1 with value: 0.5239223742860901.\n",
      "[I 2021-08-21 15:39:31,426] Trial 4 finished with value: 0.49097112691495354 and parameters: {'epochs': 8, 'lr': 2.4750164165027206e-05, 'max_length': 45, 'dropout_rate': 0.1988901010038432}. Best is trial 1 with value: 0.5239223742860901.\n",
      "[I 2021-08-21 15:42:57,389] Trial 5 finished with value: 0.4847530620166024 and parameters: {'epochs': 6, 'lr': 0.00011831984400753299, 'max_length': 20, 'dropout_rate': 0.10738712223347915}. Best is trial 1 with value: 0.5239223742860901.\n",
      "[I 2021-08-21 15:48:41,173] Trial 6 finished with value: 0.5099975155703314 and parameters: {'epochs': 5, 'lr': 0.0004549107960072944, 'max_length': 45, 'dropout_rate': 0.15141508791955557}. Best is trial 1 with value: 0.5239223742860901.\n",
      "[I 2021-08-21 15:59:53,600] Trial 7 finished with value: 0.5368328426558044 and parameters: {'epochs': 10, 'lr': 0.0002640891687009672, 'max_length': 45, 'dropout_rate': 0.04948418691513865}. Best is trial 7 with value: 0.5368328426558044.\n",
      "[I 2021-08-21 16:08:55,004] Trial 8 finished with value: 0.5159797449823965 and parameters: {'epochs': 8, 'lr': 0.00017241032090948584, 'max_length': 45, 'dropout_rate': 0.04451887281069858}. Best is trial 7 with value: 0.5368328426558044.\n",
      "[I 2021-08-21 16:19:46,450] Trial 9 finished with value: 0.5061536524786583 and parameters: {'epochs': 9, 'lr': 5.0808274694846146e-05, 'max_length': 50, 'dropout_rate': 0.10695159671011208}. Best is trial 7 with value: 0.5368328426558044.\n",
      "Best score 0.5368328426558044\n",
      "Best params {'epochs': 10, 'lr': 0.0002640891687009672, 'max_length': 45, 'dropout_rate': 0.04948418691513865}\n"
     ]
    }
   ],
   "source": [
    "study = optuna.create_study(sampler=TPESampler(), direction=\"maximize\")\n",
    "study.optimize(objective, n_trials=10, show_progress_bar=True)\n",
    "print (\"Best score\", study.best_value)\n",
    "print (\"Best params\", study.best_params)"
   ]
  },
  {
   "cell_type": "markdown",
   "metadata": {},
   "source": [
    "### Test on test data"
   ]
  },
  {
   "cell_type": "code",
   "execution_count": 257,
   "metadata": {},
   "outputs": [],
   "source": [
    "clf = AboutClassifier(epochs=study.best_params['epochs'], lr=study.best_params['lr'], \n",
    "                      max_length=study.best_params['max_length'], dropout_rate=study.best_params['dropout_rate'])"
   ]
  },
  {
   "cell_type": "code",
   "execution_count": 258,
   "metadata": {},
   "outputs": [
    {
     "data": {
      "text/plain": [
       "AboutClassifier(dropout_rate=0.04948418691513865, epochs=10,\n",
       "                lr=0.0002640891687009672, max_length=45)"
      ]
     },
     "execution_count": 258,
     "metadata": {},
     "output_type": "execute_result"
    }
   ],
   "source": [
    "clf.fit(X, y, w)"
   ]
  },
  {
   "cell_type": "code",
   "execution_count": 259,
   "metadata": {
    "scrolled": false
   },
   "outputs": [
    {
     "name": "stdout",
     "output_type": "stream",
     "text": [
      "              precision    recall  f1-score   support\n",
      "\n",
      "           0       0.99      0.80      0.88      2969\n",
      "           1       0.37      0.94      0.53       376\n",
      "\n",
      "    accuracy                           0.81      3345\n",
      "   macro avg       0.68      0.87      0.71      3345\n",
      "weighted avg       0.92      0.81      0.84      3345\n",
      "\n",
      "Confusion Matrix\n",
      "[[2366  603]\n",
      " [  24  352]]\n",
      "\n",
      "Target score\n",
      "0.5289256198347108\n"
     ]
    },
    {
     "data": {
      "image/png": "[encoded data removed]",
      "text/plain": [
       "<Figure size 1152x720 with 1 Axes>"
      ]
     },
     "metadata": {
      "needs_background": "light"
     },
     "output_type": "display_data"
    }
   ],
   "source": [
    "y_pred_rf = clf.predict_proba(X_test)[:, 1]\n",
    "y_pred = clf.predict(X_test)\n",
    "fpr_rf, tpr_rf, _ = roc_curve(y_test, y_pred_rf)\n",
    "print(classification_report(y_test, y_pred))\n",
    "\n",
    "print(\"Confusion Matrix\")\n",
    "print(confusion_matrix(y_test, y_pred))\n",
    "\n",
    "print('')\n",
    "print(\"Target score\")\n",
    "print(f1_score(y_test, y_pred))\n",
    "\n",
    "plt.figure(1)\n",
    "plt.plot([0, 1], [0, 1], 'k--')\n",
    "plt.plot(fpr_rf, tpr_rf, label='RF')\n",
    "plt.xlabel('False positive rate')\n",
    "plt.ylabel('True positive rate')\n",
    "plt.title('ROC curve')\n",
    "plt.legend(loc='best')\n",
    "plt.show()"
   ]
  },
  {
   "cell_type": "code",
   "execution_count": null,
   "metadata": {},
   "outputs": [],
   "source": []
  },
  {
   "cell_type": "code",
   "execution_count": null,
   "metadata": {},
   "outputs": [],
   "source": []
  }
 ],
 "metadata": {
  "kernelspec": {
   "display_name": "Python 3",
   "language": "python",
   "name": "python3"
  },
  "language_info": {
   "codemirror_mode": {
    "name": "ipython",
    "version": 3
   },
   "file_extension": ".py",
   "mimetype": "text/x-python",
   "name": "python",
   "nbconvert_exporter": "python",
   "pygments_lexer": "ipython3",
   "version": "3.7.9"
  }
 },
 "nbformat": 4,
 "nbformat_minor": 1
}
